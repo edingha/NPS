{
 "cells": [
  {
   "cell_type": "code",
   "execution_count": 1,
   "metadata": {
    "collapsed": false
   },
   "outputs": [],
   "source": [
    "#Loading Libraires\n",
    "import pandas as pd\n",
    "import numpy as np\n",
    "import matplotlib.pyplot  as plt\n",
    "import seaborn as sns\n",
    "from sklearn.linear_model import LogisticRegression\n",
    "from sklearn.svm import SVC, LinearSVC\n",
    "from sklearn.ensemble import RandomForestClassifier\n",
    "from sklearn.neighbors import KNeighborsClassifier\n",
    "from sklearn.naive_bayes import GaussianNB\n",
    "from sklearn.linear_model import Perceptron\n",
    "from sklearn.linear_model import SGDClassifier\n",
    "from sklearn.tree import DecisionTreeClassifier\n",
    "from sklearn.metrics import confusion_matrix\n",
    "from sklearn import tree\n",
    "%matplotlib inline\n",
    "import scipy.stats"
   ]
  },
  {
   "cell_type": "code",
   "execution_count": 10,
   "metadata": {
    "collapsed": true
   },
   "outputs": [],
   "source": [
    "from IPython.core.interactiveshell import InteractiveShell"
   ]
  },
  {
   "cell_type": "code",
   "execution_count": 21,
   "metadata": {
    "collapsed": true
   },
   "outputs": [],
   "source": [
    "df=pd.read_csv(\"C://Users//edingha//Documents//Business Analytics//Consulting//NPS_training.csv\")\n",
    "df_test=pd.read_csv(\"C://Users//edingha//Documents//Business Analytics//Consulting//NPS_test.csv\")"
   ]
  },
  {
   "cell_type": "code",
   "execution_count": 8,
   "metadata": {
    "collapsed": false
   },
   "outputs": [
    {
     "name": "stdout",
     "output_type": "stream",
     "text": [
      "<class 'pandas.core.frame.DataFrame'>\n",
      "RangeIndex: 4989 entries, 0 to 4988\n",
      "Data columns (total 52 columns):\n",
      "SN                                4989 non-null int64\n",
      "HospitalNo2                       4989 non-null int64\n",
      "MaritalStatus                     4989 non-null object\n",
      "AgeYrs                            4989 non-null float64\n",
      "Sex                               4989 non-null object\n",
      "BedCategory                       4989 non-null object\n",
      "Department                        4989 non-null object\n",
      "Estimatedcost                     4989 non-null float64\n",
      "InsPayorcategory                  4989 non-null object\n",
      "State                             4989 non-null object\n",
      "Country                           4989 non-null object\n",
      "STATEZONE                         4989 non-null object\n",
      "CE_ACCESSIBILITY                  4989 non-null int64\n",
      "CE_CSAT                           4989 non-null int64\n",
      "CE_VALUEFORMONEY                  4989 non-null int64\n",
      "EM_IMMEDIATEATTENTION             4989 non-null int64\n",
      "EM_NURSING                        4989 non-null int64\n",
      "EM_DOCTOR                         4989 non-null int64\n",
      "EM_OVERALL                        4989 non-null int64\n",
      "AD_TIME                           4989 non-null int64\n",
      "AD_TARRIFFPACKAGESEXPLAINATION    4989 non-null int64\n",
      "AD_STAFFATTITUDE                  4989 non-null int64\n",
      "INR_ROOMCLEANLINESS               4989 non-null int64\n",
      "INR_ROOMPEACE                     4989 non-null int64\n",
      "INR_ROOMEQUIPMENT                 4989 non-null int64\n",
      "INR_ROOMAMBIENCE                  4989 non-null int64\n",
      "FNB_FOODQUALITY                   4989 non-null int64\n",
      "FNB_FOODDELIVERYTIME              4989 non-null int64\n",
      "FNB_DIETICIAN                     4989 non-null int64\n",
      "FNB_STAFFATTITUDE                 4989 non-null int64\n",
      "AE_ATTENDEECARE                   4989 non-null int64\n",
      "AE_PATIENTSTATUSINFO              4989 non-null int64\n",
      "AE_ATTENDEEFOOD                   4989 non-null int64\n",
      "DOC_TREATMENTEXPLAINATION         4989 non-null int64\n",
      "DOC_ATTITUDE                      4989 non-null int64\n",
      "DOC_VISITS                        4989 non-null int64\n",
      "DOC_TREATMENTEFFECTIVENESS        4989 non-null int64\n",
      "NS_CALLBELLRESPONSE               4989 non-null int64\n",
      "NS_NURSESATTITUDE                 4989 non-null int64\n",
      "NS_NURSEPROACTIVENESS             4989 non-null int64\n",
      "NS_NURSEPATIENCE                  4989 non-null int64\n",
      "OVS_OVERALLSTAFFATTITUDE          4989 non-null int64\n",
      "OVS_OVERALLSTAFFPROMPTNESS        4989 non-null int64\n",
      "OVS_SECURITYATTITUDE              4989 non-null int64\n",
      "DP_DISCHARGETIME                  4989 non-null int64\n",
      "DP_DISCHARGEQUERIES               4989 non-null int64\n",
      "DP_DISCHARGEPROCESS               4989 non-null int64\n",
      "AdmissionDate                     4989 non-null object\n",
      "DischargeDate                     4989 non-null object\n",
      "LengthofStay                      4989 non-null int64\n",
      "CE_NPS                            4989 non-null int64\n",
      "NPS_Status                        4989 non-null object\n",
      "dtypes: float64(2), int64(39), object(11)\n",
      "memory usage: 1.8+ MB\n"
     ]
    }
   ],
   "source": [
    "df.info()"
   ]
  },
  {
   "cell_type": "code",
   "execution_count": 4,
   "metadata": {
    "collapsed": false
   },
   "outputs": [
    {
     "data": {
      "text/html": [
       "<div>\n",
       "<style>\n",
       "    .dataframe thead tr:only-child th {\n",
       "        text-align: right;\n",
       "    }\n",
       "\n",
       "    .dataframe thead th {\n",
       "        text-align: left;\n",
       "    }\n",
       "\n",
       "    .dataframe tbody tr th {\n",
       "        vertical-align: top;\n",
       "    }\n",
       "</style>\n",
       "<table border=\"1\" class=\"dataframe\">\n",
       "  <thead>\n",
       "    <tr style=\"text-align: right;\">\n",
       "      <th></th>\n",
       "      <th>SN</th>\n",
       "      <th>HospitalNo2</th>\n",
       "      <th>AgeYrs</th>\n",
       "      <th>Estimatedcost</th>\n",
       "      <th>CE_ACCESSIBILITY</th>\n",
       "      <th>CE_CSAT</th>\n",
       "      <th>CE_VALUEFORMONEY</th>\n",
       "      <th>EM_IMMEDIATEATTENTION</th>\n",
       "      <th>EM_NURSING</th>\n",
       "      <th>EM_DOCTOR</th>\n",
       "      <th>...</th>\n",
       "      <th>NS_NURSEPROACTIVENESS</th>\n",
       "      <th>NS_NURSEPATIENCE</th>\n",
       "      <th>OVS_OVERALLSTAFFATTITUDE</th>\n",
       "      <th>OVS_OVERALLSTAFFPROMPTNESS</th>\n",
       "      <th>OVS_SECURITYATTITUDE</th>\n",
       "      <th>DP_DISCHARGETIME</th>\n",
       "      <th>DP_DISCHARGEQUERIES</th>\n",
       "      <th>DP_DISCHARGEPROCESS</th>\n",
       "      <th>LengthofStay</th>\n",
       "      <th>CE_NPS</th>\n",
       "    </tr>\n",
       "  </thead>\n",
       "  <tbody>\n",
       "    <tr>\n",
       "      <th>count</th>\n",
       "      <td>4989.000000</td>\n",
       "      <td>4989.000000</td>\n",
       "      <td>4989.000000</td>\n",
       "      <td>4.989000e+03</td>\n",
       "      <td>4989.000000</td>\n",
       "      <td>4989.000000</td>\n",
       "      <td>4989.000000</td>\n",
       "      <td>4989.000000</td>\n",
       "      <td>4989.000000</td>\n",
       "      <td>4989.000000</td>\n",
       "      <td>...</td>\n",
       "      <td>4989.000000</td>\n",
       "      <td>4989.000000</td>\n",
       "      <td>4989.000000</td>\n",
       "      <td>4989.000000</td>\n",
       "      <td>4989.000000</td>\n",
       "      <td>4989.000000</td>\n",
       "      <td>4989.000000</td>\n",
       "      <td>4989.000000</td>\n",
       "      <td>4989.000000</td>\n",
       "      <td>4989.000000</td>\n",
       "    </tr>\n",
       "    <tr>\n",
       "      <th>mean</th>\n",
       "      <td>2495.000000</td>\n",
       "      <td>46453.037082</td>\n",
       "      <td>39.695771</td>\n",
       "      <td>8.323555e+04</td>\n",
       "      <td>3.623572</td>\n",
       "      <td>3.498497</td>\n",
       "      <td>3.343355</td>\n",
       "      <td>3.830427</td>\n",
       "      <td>3.856685</td>\n",
       "      <td>3.875927</td>\n",
       "      <td>...</td>\n",
       "      <td>3.668872</td>\n",
       "      <td>3.684105</td>\n",
       "      <td>3.703147</td>\n",
       "      <td>3.641812</td>\n",
       "      <td>3.637402</td>\n",
       "      <td>3.280216</td>\n",
       "      <td>3.481860</td>\n",
       "      <td>3.384446</td>\n",
       "      <td>4.336140</td>\n",
       "      <td>8.514131</td>\n",
       "    </tr>\n",
       "    <tr>\n",
       "      <th>std</th>\n",
       "      <td>1440.344577</td>\n",
       "      <td>29123.669384</td>\n",
       "      <td>22.638360</td>\n",
       "      <td>1.020465e+05</td>\n",
       "      <td>0.563005</td>\n",
       "      <td>0.580220</td>\n",
       "      <td>0.660313</td>\n",
       "      <td>0.439285</td>\n",
       "      <td>0.397095</td>\n",
       "      <td>0.376271</td>\n",
       "      <td>...</td>\n",
       "      <td>0.520043</td>\n",
       "      <td>0.516789</td>\n",
       "      <td>0.484599</td>\n",
       "      <td>0.550737</td>\n",
       "      <td>0.548209</td>\n",
       "      <td>0.724508</td>\n",
       "      <td>0.628705</td>\n",
       "      <td>0.674402</td>\n",
       "      <td>5.067573</td>\n",
       "      <td>1.662132</td>\n",
       "    </tr>\n",
       "    <tr>\n",
       "      <th>min</th>\n",
       "      <td>1.000000</td>\n",
       "      <td>4167.000000</td>\n",
       "      <td>0.300000</td>\n",
       "      <td>0.000000e+00</td>\n",
       "      <td>1.000000</td>\n",
       "      <td>1.000000</td>\n",
       "      <td>1.000000</td>\n",
       "      <td>1.000000</td>\n",
       "      <td>1.000000</td>\n",
       "      <td>1.000000</td>\n",
       "      <td>...</td>\n",
       "      <td>2.000000</td>\n",
       "      <td>1.000000</td>\n",
       "      <td>1.000000</td>\n",
       "      <td>1.000000</td>\n",
       "      <td>1.000000</td>\n",
       "      <td>1.000000</td>\n",
       "      <td>1.000000</td>\n",
       "      <td>1.000000</td>\n",
       "      <td>0.000000</td>\n",
       "      <td>0.000000</td>\n",
       "    </tr>\n",
       "    <tr>\n",
       "      <th>25%</th>\n",
       "      <td>1248.000000</td>\n",
       "      <td>19099.000000</td>\n",
       "      <td>25.000000</td>\n",
       "      <td>3.000000e+04</td>\n",
       "      <td>3.000000</td>\n",
       "      <td>3.000000</td>\n",
       "      <td>3.000000</td>\n",
       "      <td>4.000000</td>\n",
       "      <td>4.000000</td>\n",
       "      <td>4.000000</td>\n",
       "      <td>...</td>\n",
       "      <td>3.000000</td>\n",
       "      <td>3.000000</td>\n",
       "      <td>3.000000</td>\n",
       "      <td>3.000000</td>\n",
       "      <td>3.000000</td>\n",
       "      <td>3.000000</td>\n",
       "      <td>3.000000</td>\n",
       "      <td>3.000000</td>\n",
       "      <td>2.000000</td>\n",
       "      <td>8.000000</td>\n",
       "    </tr>\n",
       "    <tr>\n",
       "      <th>50%</th>\n",
       "      <td>2495.000000</td>\n",
       "      <td>44836.000000</td>\n",
       "      <td>37.000000</td>\n",
       "      <td>5.000000e+04</td>\n",
       "      <td>4.000000</td>\n",
       "      <td>4.000000</td>\n",
       "      <td>3.000000</td>\n",
       "      <td>4.000000</td>\n",
       "      <td>4.000000</td>\n",
       "      <td>4.000000</td>\n",
       "      <td>...</td>\n",
       "      <td>4.000000</td>\n",
       "      <td>4.000000</td>\n",
       "      <td>4.000000</td>\n",
       "      <td>4.000000</td>\n",
       "      <td>4.000000</td>\n",
       "      <td>3.000000</td>\n",
       "      <td>4.000000</td>\n",
       "      <td>3.000000</td>\n",
       "      <td>3.000000</td>\n",
       "      <td>9.000000</td>\n",
       "    </tr>\n",
       "    <tr>\n",
       "      <th>75%</th>\n",
       "      <td>3742.000000</td>\n",
       "      <td>72112.000000</td>\n",
       "      <td>59.000000</td>\n",
       "      <td>9.000000e+04</td>\n",
       "      <td>4.000000</td>\n",
       "      <td>4.000000</td>\n",
       "      <td>4.000000</td>\n",
       "      <td>4.000000</td>\n",
       "      <td>4.000000</td>\n",
       "      <td>4.000000</td>\n",
       "      <td>...</td>\n",
       "      <td>4.000000</td>\n",
       "      <td>4.000000</td>\n",
       "      <td>4.000000</td>\n",
       "      <td>4.000000</td>\n",
       "      <td>4.000000</td>\n",
       "      <td>4.000000</td>\n",
       "      <td>4.000000</td>\n",
       "      <td>4.000000</td>\n",
       "      <td>5.000000</td>\n",
       "      <td>10.000000</td>\n",
       "    </tr>\n",
       "    <tr>\n",
       "      <th>max</th>\n",
       "      <td>4989.000000</td>\n",
       "      <td>98618.000000</td>\n",
       "      <td>97.000000</td>\n",
       "      <td>1.500000e+06</td>\n",
       "      <td>4.000000</td>\n",
       "      <td>4.000000</td>\n",
       "      <td>4.000000</td>\n",
       "      <td>4.000000</td>\n",
       "      <td>4.000000</td>\n",
       "      <td>4.000000</td>\n",
       "      <td>...</td>\n",
       "      <td>4.000000</td>\n",
       "      <td>4.000000</td>\n",
       "      <td>4.000000</td>\n",
       "      <td>4.000000</td>\n",
       "      <td>4.000000</td>\n",
       "      <td>4.000000</td>\n",
       "      <td>4.000000</td>\n",
       "      <td>4.000000</td>\n",
       "      <td>80.000000</td>\n",
       "      <td>10.000000</td>\n",
       "    </tr>\n",
       "  </tbody>\n",
       "</table>\n",
       "<p>8 rows × 41 columns</p>\n",
       "</div>"
      ],
      "text/plain": [
       "                SN   HospitalNo2       AgeYrs  Estimatedcost  \\\n",
       "count  4989.000000   4989.000000  4989.000000   4.989000e+03   \n",
       "mean   2495.000000  46453.037082    39.695771   8.323555e+04   \n",
       "std    1440.344577  29123.669384    22.638360   1.020465e+05   \n",
       "min       1.000000   4167.000000     0.300000   0.000000e+00   \n",
       "25%    1248.000000  19099.000000    25.000000   3.000000e+04   \n",
       "50%    2495.000000  44836.000000    37.000000   5.000000e+04   \n",
       "75%    3742.000000  72112.000000    59.000000   9.000000e+04   \n",
       "max    4989.000000  98618.000000    97.000000   1.500000e+06   \n",
       "\n",
       "       CE_ACCESSIBILITY      CE_CSAT  CE_VALUEFORMONEY  EM_IMMEDIATEATTENTION  \\\n",
       "count       4989.000000  4989.000000       4989.000000            4989.000000   \n",
       "mean           3.623572     3.498497          3.343355               3.830427   \n",
       "std            0.563005     0.580220          0.660313               0.439285   \n",
       "min            1.000000     1.000000          1.000000               1.000000   \n",
       "25%            3.000000     3.000000          3.000000               4.000000   \n",
       "50%            4.000000     4.000000          3.000000               4.000000   \n",
       "75%            4.000000     4.000000          4.000000               4.000000   \n",
       "max            4.000000     4.000000          4.000000               4.000000   \n",
       "\n",
       "        EM_NURSING    EM_DOCTOR     ...       NS_NURSEPROACTIVENESS  \\\n",
       "count  4989.000000  4989.000000     ...                 4989.000000   \n",
       "mean      3.856685     3.875927     ...                    3.668872   \n",
       "std       0.397095     0.376271     ...                    0.520043   \n",
       "min       1.000000     1.000000     ...                    2.000000   \n",
       "25%       4.000000     4.000000     ...                    3.000000   \n",
       "50%       4.000000     4.000000     ...                    4.000000   \n",
       "75%       4.000000     4.000000     ...                    4.000000   \n",
       "max       4.000000     4.000000     ...                    4.000000   \n",
       "\n",
       "       NS_NURSEPATIENCE  OVS_OVERALLSTAFFATTITUDE  OVS_OVERALLSTAFFPROMPTNESS  \\\n",
       "count       4989.000000               4989.000000                 4989.000000   \n",
       "mean           3.684105                  3.703147                    3.641812   \n",
       "std            0.516789                  0.484599                    0.550737   \n",
       "min            1.000000                  1.000000                    1.000000   \n",
       "25%            3.000000                  3.000000                    3.000000   \n",
       "50%            4.000000                  4.000000                    4.000000   \n",
       "75%            4.000000                  4.000000                    4.000000   \n",
       "max            4.000000                  4.000000                    4.000000   \n",
       "\n",
       "       OVS_SECURITYATTITUDE  DP_DISCHARGETIME  DP_DISCHARGEQUERIES  \\\n",
       "count           4989.000000       4989.000000          4989.000000   \n",
       "mean               3.637402          3.280216             3.481860   \n",
       "std                0.548209          0.724508             0.628705   \n",
       "min                1.000000          1.000000             1.000000   \n",
       "25%                3.000000          3.000000             3.000000   \n",
       "50%                4.000000          3.000000             4.000000   \n",
       "75%                4.000000          4.000000             4.000000   \n",
       "max                4.000000          4.000000             4.000000   \n",
       "\n",
       "       DP_DISCHARGEPROCESS  LengthofStay       CE_NPS  \n",
       "count          4989.000000   4989.000000  4989.000000  \n",
       "mean              3.384446      4.336140     8.514131  \n",
       "std               0.674402      5.067573     1.662132  \n",
       "min               1.000000      0.000000     0.000000  \n",
       "25%               3.000000      2.000000     8.000000  \n",
       "50%               3.000000      3.000000     9.000000  \n",
       "75%               4.000000      5.000000    10.000000  \n",
       "max               4.000000     80.000000    10.000000  \n",
       "\n",
       "[8 rows x 41 columns]"
      ]
     },
     "execution_count": 4,
     "metadata": {},
     "output_type": "execute_result"
    }
   ],
   "source": [
    "df.describe()"
   ]
  },
  {
   "cell_type": "code",
   "execution_count": 11,
   "metadata": {
    "collapsed": false
   },
   "outputs": [
    {
     "data": {
      "text/plain": [
       "<matplotlib.axes._subplots.AxesSubplot at 0xe481d90>"
      ]
     },
     "execution_count": 11,
     "metadata": {},
     "output_type": "execute_result"
    },
    {
     "data": {
      "image/png": "[encoded data removed]",
      "text/plain": [
       "<matplotlib.figure.Figure at 0x4507e70>"
      ]
     },
     "metadata": {},
     "output_type": "display_data"
    }
   ],
   "source": [
    "#Missing values\n",
    "sns.heatmap(df.isnull(),yticklabels=False,cbar=False,cmap='viridis')\n",
    "sns.heatmap(df_test.isnull(),yticklabels=False,cbar=False,cmap='viridis')"
   ]
  },
  {
   "cell_type": "code",
   "execution_count": 6,
   "metadata": {
    "collapsed": false
   },
   "outputs": [
    {
     "data": {
      "text/plain": [
       "<matplotlib.axes._subplots.AxesSubplot at 0xdff24d0>"
      ]
     },
     "execution_count": 6,
     "metadata": {},
     "output_type": "execute_result"
    },
    {
     "data": {
      "image/png": "[encoded data removed]",
      "text/plain": [
       "<matplotlib.figure.Figure at 0xe000630>"
      ]
     },
     "metadata": {},
     "output_type": "display_data"
    }
   ],
   "source": [
    "#Heat Mpa\n",
    "# Set up the matplotlib figure\n",
    "f, ax = plt.subplots(figsize=(11, 9))\n",
    "\n",
    "# Generate a custom diverging colormap\n",
    "cmap = sns.diverging_palette(220, 10, as_cmap=True)\n",
    "\n",
    "# Draw the heatmap with the mask and correct aspect ratio\n",
    "sns.heatmap(df.corr(),  cmap=cmap, vmax=.3, center=0,\n",
    "            square=True, linewidths=.5, cbar_kws={\"shrink\": .5})"
   ]
  },
  {
   "cell_type": "code",
   "execution_count": 22,
   "metadata": {
    "collapsed": true
   },
   "outputs": [],
   "source": [
    "#coverting dependent variable as binominal\n",
    "df['NPS_Status'] = df['NPS_Status'].map( {'Promotor': 0, 'Detractor': 1} ).astype(int)\n",
    "df_test['NPS_Status'] = df_test['NPS_Status'].map( {'Promotor': 0, 'Detractor': 1} ).astype(int)"
   ]
  },
  {
   "cell_type": "code",
   "execution_count": 113,
   "metadata": {
    "collapsed": false
   },
   "outputs": [
    {
     "data": {
      "text/plain": [
       "<matplotlib.text.Text at 0x121b5b50>"
      ]
     },
     "execution_count": 113,
     "metadata": {},
     "output_type": "execute_result"
    },
    {
     "data": {
      "image/png": "[encoded data removed]",
      "text/plain": [
       "<matplotlib.figure.Figure at 0x12bee590>"
      ]
     },
     "metadata": {},
     "output_type": "display_data"
    }
   ],
   "source": [
    "#Exploratory Analysis\n",
    "sns.set_style('whitegrid')\n",
    "df['AgeYrs'].hist(bins=30)\n",
    "plt.xlabel('Age')"
   ]
  },
  {
   "cell_type": "code",
   "execution_count": 114,
   "metadata": {
    "collapsed": false
   },
   "outputs": [
    {
     "data": {
      "text/plain": [
       "<seaborn.axisgrid.JointGrid at 0x10c54ef0>"
      ]
     },
     "execution_count": 114,
     "metadata": {},
     "output_type": "execute_result"
    },
    {
     "data": {
      "image/png": "[encoded data removed]",
      "text/plain": [
       "<matplotlib.figure.Figure at 0x10c6ea50>"
      ]
     },
     "metadata": {},
     "output_type": "display_data"
    }
   ],
   "source": [
    "sns.jointplot(x='AgeYrs',y='NPS_Status',data=df)"
   ]
  },
  {
   "cell_type": "code",
   "execution_count": 115,
   "metadata": {
    "collapsed": false
   },
   "outputs": [
    {
     "data": {
      "text/plain": [
       "<matplotlib.axes._subplots.AxesSubplot at 0x120ee110>"
      ]
     },
     "execution_count": 115,
     "metadata": {},
     "output_type": "execute_result"
    },
    {
     "data": {
      "image/png": "[encoded data removed]",
      "text/plain": [
       "<matplotlib.figure.Figure at 0x128ae110>"
      ]
     },
     "metadata": {},
     "output_type": "display_data"
    }
   ],
   "source": [
    "sns.set_style('whitegrid')\n",
    "sns.countplot(x='NPS_Status',hue='Sex',data=df,palette='rainbow')"
   ]
  },
  {
   "cell_type": "code",
   "execution_count": 116,
   "metadata": {
    "collapsed": false
   },
   "outputs": [
    {
     "data": {
      "text/plain": [
       "<matplotlib.axes._subplots.AxesSubplot at 0x13863f90>"
      ]
     },
     "execution_count": 116,
     "metadata": {},
     "output_type": "execute_result"
    },
    {
     "data": {
      "image/png": "[encoded data removed]",
      "text/plain": [
       "<matplotlib.figure.Figure at 0x13892d30>"
      ]
     },
     "metadata": {},
     "output_type": "display_data"
    }
   ],
   "source": [
    "sns.set_style('whitegrid')\n",
    "sns.countplot(x='NPS_Status',hue='BedCategory',data=df,palette='rainbow')"
   ]
  },
  {
   "cell_type": "code",
   "execution_count": 117,
   "metadata": {
    "collapsed": false
   },
   "outputs": [
    {
     "data": {
      "text/plain": [
       "<matplotlib.axes._subplots.AxesSubplot at 0x139c43b0>"
      ]
     },
     "execution_count": 117,
     "metadata": {},
     "output_type": "execute_result"
    },
    {
     "data": {
      "image/png": "[encoded data removed]",
      "text/plain": [
       "<matplotlib.figure.Figure at 0x13880730>"
      ]
     },
     "metadata": {},
     "output_type": "display_data"
    }
   ],
   "source": [
    "sns.set_style('whitegrid')\n",
    "sns.countplot(x='NPS_Status',hue='Department',data=df,palette='rainbow')"
   ]
  },
  {
   "cell_type": "code",
   "execution_count": 118,
   "metadata": {
    "collapsed": false
   },
   "outputs": [
    {
     "data": {
      "text/plain": [
       "<matplotlib.axes._subplots.AxesSubplot at 0x13c9cbb0>"
      ]
     },
     "execution_count": 118,
     "metadata": {},
     "output_type": "execute_result"
    },
    {
     "data": {
      "image/png": "[encoded data removed]",
      "text/plain": [
       "<matplotlib.figure.Figure at 0x13963cf0>"
      ]
     },
     "metadata": {},
     "output_type": "display_data"
    }
   ],
   "source": [
    "\n",
    "sns.set_style('whitegrid')\n",
    "sns.countplot(x='NPS_Status',hue='InsPayorcategory',data=df,palette='rainbow')"
   ]
  },
  {
   "cell_type": "code",
   "execution_count": 119,
   "metadata": {
    "collapsed": false
   },
   "outputs": [
    {
     "data": {
      "text/plain": [
       "<matplotlib.axes._subplots.AxesSubplot at 0x13d76d50>"
      ]
     },
     "execution_count": 119,
     "metadata": {},
     "output_type": "execute_result"
    },
    {
     "data": {
      "image/png": "[encoded data removed]",
      "text/plain": [
       "<matplotlib.figure.Figure at 0x120fd5b0>"
      ]
     },
     "metadata": {},
     "output_type": "display_data"
    }
   ],
   "source": [
    "\n",
    "sns.set_style('whitegrid')\n",
    "sns.countplot(x='NPS_Status',hue='MaritalStatus',data=df,palette='rainbow')"
   ]
  },
  {
   "cell_type": "code",
   "execution_count": 120,
   "metadata": {
    "collapsed": false
   },
   "outputs": [
    {
     "data": {
      "text/plain": [
       "<matplotlib.axes._subplots.AxesSubplot at 0x1395d4d0>"
      ]
     },
     "execution_count": 120,
     "metadata": {},
     "output_type": "execute_result"
    },
    {
     "data": {
      "image/png": "[encoded data removed]",
      "text/plain": [
       "<matplotlib.figure.Figure at 0x13cca110>"
      ]
     },
     "metadata": {},
     "output_type": "display_data"
    }
   ],
   "source": [
    "\n",
    "sns.set_style('whitegrid')\n",
    "sns.barplot(x='NPS_Status', y=\"LengthofStay\", data=df,\n",
    "            label=\"Total\", color=\"b\",palette='rainbow')"
   ]
  },
  {
   "cell_type": "markdown",
   "metadata": {},
   "source": [
    "#Chi-Squar test"
   ]
  },
  {
   "cell_type": "code",
   "execution_count": 121,
   "metadata": {
    "collapsed": false
   },
   "outputs": [
    {
     "name": "stdout",
     "output_type": "stream",
     "text": [
      "Test Statistic: 0.7228797895229713\n",
      "p-value: 0.3952009075925038\n",
      "Degrees of Freedom: 1\n",
      "\n",
      "[[ 1363.87652836  1776.12347164]\n",
      " [  803.12347164  1045.87652836]]\n"
     ]
    }
   ],
   "source": [
    "cont = pd.crosstab(df[\"NPS_Status\"],df[\"Sex\"])\n",
    "#chi2,p=scipy.stats.chi2_contingency(cont)\n",
    "chi2, p, ddof, expected = scipy.stats.chi2_contingency( cont )\n",
    "msg = \"Test Statistic: {}\\np-value: {}\\nDegrees of Freedom: {}\\n\"\n",
    "print( msg.format( chi2, p, ddof ) )\n",
    "print( expected )"
   ]
  },
  {
   "cell_type": "code",
   "execution_count": 122,
   "metadata": {
    "collapsed": false
   },
   "outputs": [
    {
     "name": "stdout",
     "output_type": "stream",
     "text": [
      "Test Statistic: 17.409602018982756\n",
      "p-value: 0.001608939042540311\n",
      "Degrees of Freedom: 4\n",
      "\n",
      "[[  6.29384646e-01   2.13424334e+03   6.29384646e-01   1.00198036e+03\n",
      "    2.51753858e+00]\n",
      " [  3.70615354e-01   1.25675666e+03   3.70615354e-01   5.90019643e+02\n",
      "    1.48246142e+00]]\n"
     ]
    },
    {
     "data": {
      "text/html": [
       "<div>\n",
       "<style>\n",
       "    .dataframe thead tr:only-child th {\n",
       "        text-align: right;\n",
       "    }\n",
       "\n",
       "    .dataframe thead th {\n",
       "        text-align: left;\n",
       "    }\n",
       "\n",
       "    .dataframe tbody tr th {\n",
       "        vertical-align: top;\n",
       "    }\n",
       "</style>\n",
       "<table border=\"1\" class=\"dataframe\">\n",
       "  <thead>\n",
       "    <tr style=\"text-align: right;\">\n",
       "      <th>MaritalStatus</th>\n",
       "      <th>Divorced</th>\n",
       "      <th>Married</th>\n",
       "      <th>Separated</th>\n",
       "      <th>Single</th>\n",
       "      <th>Widowed</th>\n",
       "    </tr>\n",
       "    <tr>\n",
       "      <th>NPS_Status</th>\n",
       "      <th></th>\n",
       "      <th></th>\n",
       "      <th></th>\n",
       "      <th></th>\n",
       "      <th></th>\n",
       "    </tr>\n",
       "  </thead>\n",
       "  <tbody>\n",
       "    <tr>\n",
       "      <th>0</th>\n",
       "      <td>0</td>\n",
       "      <td>2196</td>\n",
       "      <td>1</td>\n",
       "      <td>941</td>\n",
       "      <td>2</td>\n",
       "    </tr>\n",
       "    <tr>\n",
       "      <th>1</th>\n",
       "      <td>1</td>\n",
       "      <td>1195</td>\n",
       "      <td>0</td>\n",
       "      <td>651</td>\n",
       "      <td>2</td>\n",
       "    </tr>\n",
       "  </tbody>\n",
       "</table>\n",
       "</div>"
      ],
      "text/plain": [
       "MaritalStatus  Divorced  Married  Separated  Single  Widowed\n",
       "NPS_Status                                                  \n",
       "0                     0     2196          1     941        2\n",
       "1                     1     1195          0     651        2"
      ]
     },
     "execution_count": 122,
     "metadata": {},
     "output_type": "execute_result"
    }
   ],
   "source": [
    "cont = pd.crosstab(df[\"NPS_Status\"],df[\"MaritalStatus\"])\n",
    "#chi2,p=scipy.stats.chi2_contingency(cont)\n",
    "chi2, p, ddof, expected = scipy.stats.chi2_contingency( cont )\n",
    "msg = \"Test Statistic: {}\\np-value: {}\\nDegrees of Freedom: {}\\n\"\n",
    "print( msg.format( chi2, p, ddof ) )\n",
    "print( expected )\n",
    "cont"
   ]
  },
  {
   "cell_type": "code",
   "execution_count": 123,
   "metadata": {
    "collapsed": false
   },
   "outputs": [
    {
     "name": "stdout",
     "output_type": "stream",
     "text": [
      "Test Statistic: 71.16472442810749\n",
      "p-value: 1.2883924846830678e-14\n",
      "Degrees of Freedom: 4\n",
      "\n",
      "[[  241.0543195    342.38524754  1156.17959511    50.3507717   1350.03006615]\n",
      " [  141.9456805    201.61475246   680.82040489    29.6492283    794.96993385]]\n"
     ]
    }
   ],
   "source": [
    "cont = pd.crosstab(df[\"NPS_Status\"],df[\"InsPayorcategory\"])\n",
    "#chi2,p=scipy.stats.chi2_contingency(cont)\n",
    "chi2, p, ddof, expected = scipy.stats.chi2_contingency( cont )\n",
    "msg = \"Test Statistic: {}\\np-value: {}\\nDegrees of Freedom: {}\\n\"\n",
    "print( msg.format( chi2, p, ddof ) )\n",
    "print( expected )"
   ]
  },
  {
   "cell_type": "code",
   "execution_count": 124,
   "metadata": {
    "collapsed": false
   },
   "outputs": [
    {
     "name": "stdout",
     "output_type": "stream",
     "text": [
      "Test Statistic: 40.066808870211645\n",
      "p-value: 4.419495653195618e-07\n",
      "Degrees of Freedom: 6\n",
      "\n",
      "[[  244.83062738  1409.19222289   207.06754861   244.20124273   392.1066346\n",
      "    130.28262177   512.31910202]\n",
      " [  144.16937262   829.80777711   121.93245139   143.79875727   230.8933654\n",
      "     76.71737823   301.68089798]]\n"
     ]
    }
   ],
   "source": [
    "cont = pd.crosstab(df[\"NPS_Status\"],df[\"Department\"])\n",
    "#chi2,p=scipy.stats.chi2_contingency(cont)\n",
    "chi2, p, ddof, expected = scipy.stats.chi2_contingency( cont )\n",
    "msg = \"Test Statistic: {}\\np-value: {}\\nDegrees of Freedom: {}\\n\"\n",
    "print( msg.format( chi2, p, ddof ) )\n",
    "print( expected )\n",
    "\n"
   ]
  },
  {
   "cell_type": "code",
   "execution_count": 125,
   "metadata": {
    "collapsed": false
   },
   "outputs": [
    {
     "name": "stdout",
     "output_type": "stream",
     "text": [
      "Test Statistic: 69.8639739948415\n",
      "p-value: 4.7101521579993736e-11\n",
      "Degrees of Freedom: 10\n",
      "\n",
      "[[  6.29384646e-01   5.72740028e+01   8.49669272e+02   5.97915414e+01\n",
      "    6.29384646e-01   1.25876929e+00   1.30030868e+03   1.82521547e+01\n",
      "    6.44489878e+02   3.52455402e+01   1.72451393e+02]\n",
      " [  3.70615354e-01   3.37259972e+01   5.00330728e+02   3.52084586e+01\n",
      "    3.70615354e-01   7.41230708e-01   7.65691321e+02   1.07478453e+01\n",
      "    3.79510122e+02   2.07544598e+01   1.01548607e+02]]\n"
     ]
    }
   ],
   "source": [
    "cont = pd.crosstab(df[\"NPS_Status\"],df[\"BedCategory\"])\n",
    "#chi2,p=scipy.stats.chi2_contingency(cont)\n",
    "chi2, p, ddof, expected = scipy.stats.chi2_contingency( cont )\n",
    "msg = \"Test Statistic: {}\\np-value: {}\\nDegrees of Freedom: {}\\n\"\n",
    "print( msg.format( chi2, p, ddof ) )\n",
    "print( expected )"
   ]
  },
  {
   "cell_type": "code",
   "execution_count": 23,
   "metadata": {
    "collapsed": false
   },
   "outputs": [],
   "source": [
    "#Encoding Variables \n",
    "\n",
    "sex = pd.get_dummies(df['Sex'],drop_first=True,prefix='sex')\n",
    "marriage = pd.get_dummies(df['MaritalStatus'],drop_first=True,prefix='marriage')\n",
    "bed = pd.get_dummies(df['BedCategory'],drop_first=True,prefix='bed')\n",
    "department = pd.get_dummies(df['Department'],drop_first=True,prefix='department')\n",
    "payment = pd.get_dummies(df['InsPayorcategory'],drop_first=True,prefix='InsPayorcategory')\n",
    "\n",
    "df.drop(['Sex','MaritalStatus','BedCategory','Department','InsPayorcategory'],axis=1,inplace=True)\n",
    "\n",
    "df = pd.concat([df,marriage,bed,department,payment,sex],axis=1)\n",
    "\n",
    "\n",
    "\n"
   ]
  },
  {
   "cell_type": "code",
   "execution_count": 24,
   "metadata": {
    "collapsed": true
   },
   "outputs": [],
   "source": [
    "#Encoding Variables \n",
    "\n",
    "sex = pd.get_dummies(df_test['Sex'],drop_first=True,prefix='sex')\n",
    "marriage = pd.get_dummies(df_test['MaritalStatus'],drop_first=True,prefix='marriage')\n",
    "bed = pd.get_dummies(df_test['BedCategory'],drop_first=True,prefix='bed')\n",
    "department = pd.get_dummies(df_test['Department'],drop_first=True,prefix='department')\n",
    "payment = pd.get_dummies(df_test['InsPayorcategory'],drop_first=True,prefix='InsPayorcategory')\n",
    "\n",
    "df_test.drop(['Sex','MaritalStatus','BedCategory','Department','InsPayorcategory'],axis=1,inplace=True)\n",
    "\n",
    "df_test = pd.concat([df_test,marriage,bed,department,payment,sex],axis=1)\n"
   ]
  },
  {
   "cell_type": "code",
   "execution_count": 25,
   "metadata": {
    "collapsed": false
   },
   "outputs": [],
   "source": [
    "df['AgeYrs']=np.log(df['AgeYrs'])\n",
    "df_test['AgeYrs']=np.log(df_test['AgeYrs'])"
   ]
  },
  {
   "cell_type": "code",
   "execution_count": 26,
   "metadata": {
    "collapsed": false
   },
   "outputs": [
    {
     "data": {
      "text/plain": [
       "Index(['SN', 'HospitalNo2', 'AgeYrs', 'Estimatedcost', 'State', 'Country',\n",
       "       'STATEZONE', 'CE_ACCESSIBILITY', 'CE_CSAT', 'CE_VALUEFORMONEY',\n",
       "       'EM_IMMEDIATEATTENTION', 'EM_NURSING', 'EM_DOCTOR', 'EM_OVERALL',\n",
       "       'AD_TIME', 'AD_TARRIFFPACKAGESEXPLAINATION', 'AD_STAFFATTITUDE',\n",
       "       'INR_ROOMCLEANLINESS', 'INR_ROOMPEACE', 'INR_ROOMEQUIPMENT',\n",
       "       'INR_ROOMAMBIENCE', 'FNB_FOODQUALITY', 'FNB_FOODDELIVERYTIME',\n",
       "       'FNB_DIETICIAN', 'FNB_STAFFATTITUDE', 'AE_ATTENDEECARE',\n",
       "       'AE_PATIENTSTATUSINFO', 'AE_ATTENDEEFOOD', 'DOC_TREATMENTEXPLAINATION',\n",
       "       'DOC_ATTITUDE', 'DOC_VISITS', 'DOC_TREATMENTEFFECTIVENESS',\n",
       "       'NS_CALLBELLRESPONSE', 'NS_NURSESATTITUDE', 'NS_NURSEPROACTIVENESS',\n",
       "       'NS_NURSEPATIENCE', 'OVS_OVERALLSTAFFATTITUDE',\n",
       "       'OVS_OVERALLSTAFFPROMPTNESS', 'OVS_SECURITYATTITUDE',\n",
       "       'DP_DISCHARGETIME', 'DP_DISCHARGEQUERIES', 'DP_DISCHARGEPROCESS',\n",
       "       'AdmissionDate', 'DischargeDate', 'LengthofStay', 'CE_NPS',\n",
       "       'NPS_Status', 'marriage_Married', 'marriage_Separated',\n",
       "       'marriage_Single', 'marriage_Widowed', 'bed_DAYCARE', 'bed_GENERAL',\n",
       "       'bed_GENERAL HD', 'bed_ITU', 'bed_Renal ICU', 'bed_SEMISPECIAL',\n",
       "       'bed_SEMISPECIAL HD', 'bed_SPECIAL', 'bed_ULTRA DLX', 'bed_ULTRA SPL',\n",
       "       'department_GEN', 'department_GYNAEC', 'department_ORTHO',\n",
       "       'department_PEDIATRIC', 'department_RENAL', 'department_SPECIAL',\n",
       "       'InsPayorcategory_EXEMPTION', 'InsPayorcategory_INSURANCE',\n",
       "       'InsPayorcategory_INTERNATIONAL', 'InsPayorcategory_PATIENT', 'sex_M'],\n",
       "      dtype='object')"
      ]
     },
     "execution_count": 26,
     "metadata": {},
     "output_type": "execute_result"
    }
   ],
   "source": [
    "df.columns"
   ]
  },
  {
   "cell_type": "code",
   "execution_count": 30,
   "metadata": {
    "collapsed": false
   },
   "outputs": [
    {
     "data": {
      "text/plain": [
       "Index(['SN', 'HospitalNo2', 'AgeYrs', 'Estimatedcost', 'State', 'Country',\n",
       "       'STATEZONE', 'CE_ACCESSIBILITY', 'CE_CSAT', 'CE_VALUEFORMONEY',\n",
       "       'EM_IMMEDIATEATTENTION', 'EM_NURSING', 'EM_DOCTOR', 'EM_OVERALL',\n",
       "       'AD_TIME', 'AD_TARRIFFPACKAGESEXPLAINATION', 'AD_STAFFATTITUDE',\n",
       "       'INR_ROOMCLEANLINESS', 'INR_ROOMPEACE', 'INR_ROOMEQUIPMENT',\n",
       "       'INR_ROOMAMBIENCE', 'FNB_FOODQUALITY', 'FNB_FOODDELIVERYTIME',\n",
       "       'FNB_DIETICIAN', 'FNB_STAFFATTITUDE', 'AE_ATTENDEECARE',\n",
       "       'AE_PATIENTSTATUSINFO', 'AE_ATTENDEEFOOD', 'DOC_TREATMENTEXPLAINATION',\n",
       "       'DOC_ATTITUDE', 'DOC_VISITS', 'DOC_TREATMENTEFFECTIVENESS',\n",
       "       'NS_CALLBELLRESPONSE', 'NS_NURSESATTITUDE', 'NS_NURSEPROACTIVENESS',\n",
       "       'NS_NURSEPATIENCE', 'OVS_OVERALLSTAFFATTITUDE',\n",
       "       'OVS_OVERALLSTAFFPROMPTNESS', 'OVS_SECURITYATTITUDE',\n",
       "       'DP_DISCHARGETIME', 'DP_DISCHARGEQUERIES', 'DP_DISCHARGEPROCESS',\n",
       "       'AdmissionDate', 'DischargeDate', 'LengthofStay', 'CE_NPS',\n",
       "       'NPS_Status', 'marriage_Separated', 'marriage_Single', 'bed_GENERAL',\n",
       "       'bed_GENERAL HD', 'bed_SEMISPECIAL', 'bed_SEMISPECIAL HD',\n",
       "       'bed_SPECIAL', 'bed_ULTRA DLX', 'bed_ULTRA SPL', 'department_GEN',\n",
       "       'department_GYNAEC', 'department_ORTHO', 'department_PEDIATRIC',\n",
       "       'department_RENAL', 'department_SPECIAL', 'InsPayorcategory_EXEMPTION',\n",
       "       'InsPayorcategory_INSURANCE', 'InsPayorcategory_PATIENT', 'sex_M'],\n",
       "      dtype='object')"
      ]
     },
     "execution_count": 30,
     "metadata": {},
     "output_type": "execute_result"
    }
   ],
   "source": [
    "df_test.columns"
   ]
  },
  {
   "cell_type": "code",
   "execution_count": 27,
   "metadata": {
    "collapsed": true
   },
   "outputs": [],
   "source": [
    "from sklearn.model_selection import train_test_split"
   ]
  },
  {
   "cell_type": "code",
   "execution_count": 38,
   "metadata": {
    "collapsed": false
   },
   "outputs": [],
   "source": [
    "X = df[['AgeYrs','CE_ACCESSIBILITY','CE_CSAT','CE_VALUEFORMONEY','EM_IMMEDIATEATTENTION','EM_NURSING','EM_DOCTOR','EM_OVERALL','AD_TIME','AD_TARRIFFPACKAGESEXPLAINATION','AD_STAFFATTITUDE','INR_ROOMCLEANLINESS','INR_ROOMPEACE','INR_ROOMEQUIPMENT','INR_ROOMAMBIENCE','FNB_FOODQUALITY','FNB_FOODDELIVERYTIME','FNB_DIETICIAN','FNB_STAFFATTITUDE','AE_ATTENDEECARE','AE_PATIENTSTATUSINFO','AE_ATTENDEEFOOD','DOC_TREATMENTEXPLAINATION','DOC_ATTITUDE','DOC_VISITS','DOC_TREATMENTEFFECTIVENESS','NS_CALLBELLRESPONSE','NS_NURSESATTITUDE','NS_NURSEPROACTIVENESS','NS_NURSEPATIENCE','OVS_OVERALLSTAFFATTITUDE','OVS_OVERALLSTAFFPROMPTNESS','OVS_SECURITYATTITUDE','DP_DISCHARGETIME','DP_DISCHARGEQUERIES','DP_DISCHARGEPROCESS','LengthofStay','marriage_Separated','marriage_Single','bed_GENERAL','bed_GENERAL HD','bed_SEMISPECIAL','bed_SEMISPECIAL HD','bed_SPECIAL','bed_ULTRA DLX','bed_ULTRA SPL']]\n",
    "y = df['NPS_Status']\n",
    "\n"
   ]
  },
  {
   "cell_type": "code",
   "execution_count": 39,
   "metadata": {
    "collapsed": false
   },
   "outputs": [],
   "source": [
    "X_test = df_test[['AgeYrs','CE_ACCESSIBILITY','CE_CSAT','CE_VALUEFORMONEY','EM_IMMEDIATEATTENTION','EM_NURSING','EM_DOCTOR','EM_OVERALL','AD_TIME','AD_TARRIFFPACKAGESEXPLAINATION','AD_STAFFATTITUDE','INR_ROOMCLEANLINESS','INR_ROOMPEACE','INR_ROOMEQUIPMENT','INR_ROOMAMBIENCE','FNB_FOODQUALITY','FNB_FOODDELIVERYTIME','FNB_DIETICIAN','FNB_STAFFATTITUDE','AE_ATTENDEECARE','AE_PATIENTSTATUSINFO','AE_ATTENDEEFOOD','DOC_TREATMENTEXPLAINATION','DOC_ATTITUDE','DOC_VISITS','DOC_TREATMENTEFFECTIVENESS','NS_CALLBELLRESPONSE','NS_NURSESATTITUDE','NS_NURSEPROACTIVENESS','NS_NURSEPATIENCE','OVS_OVERALLSTAFFATTITUDE','OVS_OVERALLSTAFFPROMPTNESS','OVS_SECURITYATTITUDE','DP_DISCHARGETIME','DP_DISCHARGEQUERIES','DP_DISCHARGEPROCESS','LengthofStay','marriage_Separated','marriage_Single','bed_GENERAL','bed_GENERAL HD','bed_SEMISPECIAL','bed_SEMISPECIAL HD','bed_SPECIAL','bed_ULTRA DLX','bed_ULTRA SPL']]\n",
    "y_test = df_test['NPS_Status']\n"
   ]
  },
  {
   "cell_type": "code",
   "execution_count": 40,
   "metadata": {
    "collapsed": true
   },
   "outputs": [],
   "source": [
    "X_train=X\n",
    "y_train=y"
   ]
  },
  {
   "cell_type": "code",
   "execution_count": 35,
   "metadata": {
    "collapsed": true
   },
   "outputs": [],
   "source": [
    "#X = df[['AgeYrs','CE_ACCESSIBILITY','CE_CSAT','CE_VALUEFORMONEY','EM_IMMEDIATEATTENTION','EM_NURSING','EM_DOCTOR','EM_OVERALL','AD_TIME','AD_TARRIFFPACKAGESEXPLAINATION','AD_STAFFATTITUDE','INR_ROOMCLEANLINESS','INR_ROOMPEACE','INR_ROOMEQUIPMENT','INR_ROOMAMBIENCE','FNB_FOODQUALITY','FNB_FOODDELIVERYTIME','FNB_DIETICIAN','FNB_STAFFATTITUDE','AE_ATTENDEECARE','AE_PATIENTSTATUSINFO','AE_ATTENDEEFOOD','DOC_TREATMENTEXPLAINATION','DOC_ATTITUDE','DOC_VISITS','DOC_TREATMENTEFFECTIVENESS','NS_CALLBELLRESPONSE','NS_NURSESATTITUDE','NS_NURSEPROACTIVENESS','NS_NURSEPATIENCE','OVS_OVERALLSTAFFATTITUDE','OVS_OVERALLSTAFFPROMPTNESS','OVS_SECURITYATTITUDE','DP_DISCHARGETIME','DP_DISCHARGEQUERIES','DP_DISCHARGEPROCESS','LengthofStay']]\n",
    "#y = df['NPS_Status']"
   ]
  },
  {
   "cell_type": "code",
   "execution_count": 132,
   "metadata": {
    "collapsed": false
   },
   "outputs": [],
   "source": [
    "X_train, X_test, y_train, y_test = train_test_split(X, y, test_size=0.30, random_state=42)"
   ]
  },
  {
   "cell_type": "code",
   "execution_count": 93,
   "metadata": {
    "collapsed": false
   },
   "outputs": [
    {
     "data": {
      "text/plain": [
       "1407    0\n",
       "3905    0\n",
       "801     0\n",
       "1288    0\n",
       "2172    0\n",
       "Name: NPS_Status, dtype: int32"
      ]
     },
     "execution_count": 93,
     "metadata": {},
     "output_type": "execute_result"
    }
   ],
   "source": [
    "y_train.head()"
   ]
  },
  {
   "cell_type": "code",
   "execution_count": 33,
   "metadata": {
    "collapsed": true
   },
   "outputs": [],
   "source": [
    "from sklearn.linear_model import LogisticRegression"
   ]
  },
  {
   "cell_type": "code",
   "execution_count": 41,
   "metadata": {
    "collapsed": false
   },
   "outputs": [
    {
     "data": {
      "text/plain": [
       "LogisticRegression(C=1.0, class_weight=None, dual=False, fit_intercept=True,\n",
       "          intercept_scaling=1, max_iter=100, multi_class='ovr', n_jobs=1,\n",
       "          penalty='l2', random_state=None, solver='liblinear', tol=0.0001,\n",
       "          verbose=0, warm_start=False)"
      ]
     },
     "execution_count": 41,
     "metadata": {},
     "output_type": "execute_result"
    }
   ],
   "source": [
    "logmodel = LogisticRegression()\n",
    "logmodel.fit(X_train,y_train)"
   ]
  },
  {
   "cell_type": "code",
   "execution_count": 42,
   "metadata": {
    "collapsed": false
   },
   "outputs": [],
   "source": [
    "predictions = logmodel.predict(X_test)"
   ]
  },
  {
   "cell_type": "code",
   "execution_count": 43,
   "metadata": {
    "collapsed": true
   },
   "outputs": [],
   "source": [
    "from sklearn.metrics import classification_report"
   ]
  },
  {
   "cell_type": "code",
   "execution_count": 44,
   "metadata": {
    "collapsed": false
   },
   "outputs": [
    {
     "name": "stdout",
     "output_type": "stream",
     "text": [
      "             precision    recall  f1-score   support\n",
      "\n",
      "          0       0.69      0.82      0.75       203\n",
      "          1       0.70      0.55      0.62       161\n",
      "\n",
      "avg / total       0.70      0.70      0.69       364\n",
      "\n"
     ]
    }
   ],
   "source": [
    "print(classification_report(y_test,predictions))"
   ]
  },
  {
   "cell_type": "code",
   "execution_count": 45,
   "metadata": {
    "collapsed": false
   },
   "outputs": [
    {
     "data": {
      "text/plain": [
       "76.230000000000004"
      ]
     },
     "execution_count": 45,
     "metadata": {},
     "output_type": "execute_result"
    }
   ],
   "source": [
    "#Logistic Regression\n",
    "\n",
    "logreg = LogisticRegression()\n",
    "logreg.fit(X_train, y_train)\n",
    "Y_pred = logreg.predict(X_test)\n",
    "acc_log = round(logreg.score(X_train, y_train) * 100, 2)\n",
    "acc_log\n",
    "\n",
    "\n"
   ]
  },
  {
   "cell_type": "code",
   "execution_count": 46,
   "metadata": {
    "collapsed": false
   },
   "outputs": [
    {
     "data": {
      "text/html": [
       "<div>\n",
       "<style>\n",
       "    .dataframe thead tr:only-child th {\n",
       "        text-align: right;\n",
       "    }\n",
       "\n",
       "    .dataframe thead th {\n",
       "        text-align: left;\n",
       "    }\n",
       "\n",
       "    .dataframe tbody tr th {\n",
       "        vertical-align: top;\n",
       "    }\n",
       "</style>\n",
       "<table border=\"1\" class=\"dataframe\">\n",
       "  <thead>\n",
       "    <tr style=\"text-align: right;\">\n",
       "      <th></th>\n",
       "      <th>Feature</th>\n",
       "      <th>Correlation</th>\n",
       "    </tr>\n",
       "  </thead>\n",
       "  <tbody>\n",
       "    <tr>\n",
       "      <th>41</th>\n",
       "      <td>bed_SEMISPECIAL HD</td>\n",
       "      <td>0.882142</td>\n",
       "    </tr>\n",
       "    <tr>\n",
       "      <th>43</th>\n",
       "      <td>bed_ULTRA DLX</td>\n",
       "      <td>0.879563</td>\n",
       "    </tr>\n",
       "    <tr>\n",
       "      <th>40</th>\n",
       "      <td>bed_SEMISPECIAL</td>\n",
       "      <td>0.817926</td>\n",
       "    </tr>\n",
       "    <tr>\n",
       "      <th>44</th>\n",
       "      <td>bed_ULTRA SPL</td>\n",
       "      <td>0.803539</td>\n",
       "    </tr>\n",
       "    <tr>\n",
       "      <th>39</th>\n",
       "      <td>bed_GENERAL HD</td>\n",
       "      <td>0.445852</td>\n",
       "    </tr>\n",
       "    <tr>\n",
       "      <th>27</th>\n",
       "      <td>NS_NURSEPROACTIVENESS</td>\n",
       "      <td>0.399302</td>\n",
       "    </tr>\n",
       "    <tr>\n",
       "      <th>22</th>\n",
       "      <td>DOC_ATTITUDE</td>\n",
       "      <td>0.322438</td>\n",
       "    </tr>\n",
       "    <tr>\n",
       "      <th>10</th>\n",
       "      <td>INR_ROOMCLEANLINESS</td>\n",
       "      <td>0.306584</td>\n",
       "    </tr>\n",
       "    <tr>\n",
       "      <th>32</th>\n",
       "      <td>DP_DISCHARGETIME</td>\n",
       "      <td>0.269611</td>\n",
       "    </tr>\n",
       "    <tr>\n",
       "      <th>42</th>\n",
       "      <td>bed_SPECIAL</td>\n",
       "      <td>0.240420</td>\n",
       "    </tr>\n",
       "    <tr>\n",
       "      <th>38</th>\n",
       "      <td>bed_GENERAL</td>\n",
       "      <td>0.184795</td>\n",
       "    </tr>\n",
       "    <tr>\n",
       "      <th>11</th>\n",
       "      <td>INR_ROOMPEACE</td>\n",
       "      <td>0.142566</td>\n",
       "    </tr>\n",
       "    <tr>\n",
       "      <th>18</th>\n",
       "      <td>AE_ATTENDEECARE</td>\n",
       "      <td>0.140091</td>\n",
       "    </tr>\n",
       "    <tr>\n",
       "      <th>13</th>\n",
       "      <td>INR_ROOMAMBIENCE</td>\n",
       "      <td>0.120249</td>\n",
       "    </tr>\n",
       "    <tr>\n",
       "      <th>30</th>\n",
       "      <td>OVS_OVERALLSTAFFPROMPTNESS</td>\n",
       "      <td>0.097875</td>\n",
       "    </tr>\n",
       "    <tr>\n",
       "      <th>35</th>\n",
       "      <td>LengthofStay</td>\n",
       "      <td>0.080394</td>\n",
       "    </tr>\n",
       "    <tr>\n",
       "      <th>23</th>\n",
       "      <td>DOC_VISITS</td>\n",
       "      <td>0.074958</td>\n",
       "    </tr>\n",
       "    <tr>\n",
       "      <th>6</th>\n",
       "      <td>EM_OVERALL</td>\n",
       "      <td>0.032996</td>\n",
       "    </tr>\n",
       "    <tr>\n",
       "      <th>19</th>\n",
       "      <td>AE_PATIENTSTATUSINFO</td>\n",
       "      <td>0.019765</td>\n",
       "    </tr>\n",
       "    <tr>\n",
       "      <th>29</th>\n",
       "      <td>OVS_OVERALLSTAFFATTITUDE</td>\n",
       "      <td>0.019075</td>\n",
       "    </tr>\n",
       "    <tr>\n",
       "      <th>36</th>\n",
       "      <td>marriage_Separated</td>\n",
       "      <td>-0.006896</td>\n",
       "    </tr>\n",
       "    <tr>\n",
       "      <th>8</th>\n",
       "      <td>AD_TARRIFFPACKAGESEXPLAINATION</td>\n",
       "      <td>-0.012375</td>\n",
       "    </tr>\n",
       "    <tr>\n",
       "      <th>0</th>\n",
       "      <td>CE_ACCESSIBILITY</td>\n",
       "      <td>-0.015859</td>\n",
       "    </tr>\n",
       "    <tr>\n",
       "      <th>26</th>\n",
       "      <td>NS_NURSESATTITUDE</td>\n",
       "      <td>-0.019257</td>\n",
       "    </tr>\n",
       "    <tr>\n",
       "      <th>25</th>\n",
       "      <td>NS_CALLBELLRESPONSE</td>\n",
       "      <td>-0.035501</td>\n",
       "    </tr>\n",
       "    <tr>\n",
       "      <th>12</th>\n",
       "      <td>INR_ROOMEQUIPMENT</td>\n",
       "      <td>-0.046721</td>\n",
       "    </tr>\n",
       "    <tr>\n",
       "      <th>28</th>\n",
       "      <td>NS_NURSEPATIENCE</td>\n",
       "      <td>-0.047622</td>\n",
       "    </tr>\n",
       "    <tr>\n",
       "      <th>7</th>\n",
       "      <td>AD_TIME</td>\n",
       "      <td>-0.048252</td>\n",
       "    </tr>\n",
       "    <tr>\n",
       "      <th>17</th>\n",
       "      <td>FNB_STAFFATTITUDE</td>\n",
       "      <td>-0.049899</td>\n",
       "    </tr>\n",
       "    <tr>\n",
       "      <th>1</th>\n",
       "      <td>CE_CSAT</td>\n",
       "      <td>-0.051972</td>\n",
       "    </tr>\n",
       "    <tr>\n",
       "      <th>37</th>\n",
       "      <td>marriage_Single</td>\n",
       "      <td>-0.098167</td>\n",
       "    </tr>\n",
       "    <tr>\n",
       "      <th>15</th>\n",
       "      <td>FNB_FOODDELIVERYTIME</td>\n",
       "      <td>-0.106029</td>\n",
       "    </tr>\n",
       "    <tr>\n",
       "      <th>4</th>\n",
       "      <td>EM_NURSING</td>\n",
       "      <td>-0.124490</td>\n",
       "    </tr>\n",
       "    <tr>\n",
       "      <th>33</th>\n",
       "      <td>DP_DISCHARGEQUERIES</td>\n",
       "      <td>-0.126936</td>\n",
       "    </tr>\n",
       "    <tr>\n",
       "      <th>5</th>\n",
       "      <td>EM_DOCTOR</td>\n",
       "      <td>-0.129314</td>\n",
       "    </tr>\n",
       "    <tr>\n",
       "      <th>21</th>\n",
       "      <td>DOC_TREATMENTEXPLAINATION</td>\n",
       "      <td>-0.137060</td>\n",
       "    </tr>\n",
       "    <tr>\n",
       "      <th>14</th>\n",
       "      <td>FNB_FOODQUALITY</td>\n",
       "      <td>-0.179564</td>\n",
       "    </tr>\n",
       "    <tr>\n",
       "      <th>16</th>\n",
       "      <td>FNB_DIETICIAN</td>\n",
       "      <td>-0.190315</td>\n",
       "    </tr>\n",
       "    <tr>\n",
       "      <th>34</th>\n",
       "      <td>DP_DISCHARGEPROCESS</td>\n",
       "      <td>-0.200409</td>\n",
       "    </tr>\n",
       "    <tr>\n",
       "      <th>20</th>\n",
       "      <td>AE_ATTENDEEFOOD</td>\n",
       "      <td>-0.315072</td>\n",
       "    </tr>\n",
       "    <tr>\n",
       "      <th>9</th>\n",
       "      <td>AD_STAFFATTITUDE</td>\n",
       "      <td>-0.387180</td>\n",
       "    </tr>\n",
       "    <tr>\n",
       "      <th>24</th>\n",
       "      <td>DOC_TREATMENTEFFECTIVENESS</td>\n",
       "      <td>-0.410562</td>\n",
       "    </tr>\n",
       "    <tr>\n",
       "      <th>31</th>\n",
       "      <td>OVS_SECURITYATTITUDE</td>\n",
       "      <td>-0.431527</td>\n",
       "    </tr>\n",
       "    <tr>\n",
       "      <th>3</th>\n",
       "      <td>EM_IMMEDIATEATTENTION</td>\n",
       "      <td>-0.555955</td>\n",
       "    </tr>\n",
       "    <tr>\n",
       "      <th>2</th>\n",
       "      <td>CE_VALUEFORMONEY</td>\n",
       "      <td>-0.674763</td>\n",
       "    </tr>\n",
       "  </tbody>\n",
       "</table>\n",
       "</div>"
      ],
      "text/plain": [
       "                           Feature  Correlation\n",
       "41              bed_SEMISPECIAL HD     0.882142\n",
       "43                   bed_ULTRA DLX     0.879563\n",
       "40                 bed_SEMISPECIAL     0.817926\n",
       "44                   bed_ULTRA SPL     0.803539\n",
       "39                  bed_GENERAL HD     0.445852\n",
       "27           NS_NURSEPROACTIVENESS     0.399302\n",
       "22                    DOC_ATTITUDE     0.322438\n",
       "10             INR_ROOMCLEANLINESS     0.306584\n",
       "32                DP_DISCHARGETIME     0.269611\n",
       "42                     bed_SPECIAL     0.240420\n",
       "38                     bed_GENERAL     0.184795\n",
       "11                   INR_ROOMPEACE     0.142566\n",
       "18                 AE_ATTENDEECARE     0.140091\n",
       "13                INR_ROOMAMBIENCE     0.120249\n",
       "30      OVS_OVERALLSTAFFPROMPTNESS     0.097875\n",
       "35                    LengthofStay     0.080394\n",
       "23                      DOC_VISITS     0.074958\n",
       "6                       EM_OVERALL     0.032996\n",
       "19            AE_PATIENTSTATUSINFO     0.019765\n",
       "29        OVS_OVERALLSTAFFATTITUDE     0.019075\n",
       "36              marriage_Separated    -0.006896\n",
       "8   AD_TARRIFFPACKAGESEXPLAINATION    -0.012375\n",
       "0                 CE_ACCESSIBILITY    -0.015859\n",
       "26               NS_NURSESATTITUDE    -0.019257\n",
       "25             NS_CALLBELLRESPONSE    -0.035501\n",
       "12               INR_ROOMEQUIPMENT    -0.046721\n",
       "28                NS_NURSEPATIENCE    -0.047622\n",
       "7                          AD_TIME    -0.048252\n",
       "17               FNB_STAFFATTITUDE    -0.049899\n",
       "1                          CE_CSAT    -0.051972\n",
       "37                 marriage_Single    -0.098167\n",
       "15            FNB_FOODDELIVERYTIME    -0.106029\n",
       "4                       EM_NURSING    -0.124490\n",
       "33             DP_DISCHARGEQUERIES    -0.126936\n",
       "5                        EM_DOCTOR    -0.129314\n",
       "21       DOC_TREATMENTEXPLAINATION    -0.137060\n",
       "14                 FNB_FOODQUALITY    -0.179564\n",
       "16                   FNB_DIETICIAN    -0.190315\n",
       "34             DP_DISCHARGEPROCESS    -0.200409\n",
       "20                 AE_ATTENDEEFOOD    -0.315072\n",
       "9                 AD_STAFFATTITUDE    -0.387180\n",
       "24      DOC_TREATMENTEFFECTIVENESS    -0.410562\n",
       "31            OVS_SECURITYATTITUDE    -0.431527\n",
       "3            EM_IMMEDIATEATTENTION    -0.555955\n",
       "2                 CE_VALUEFORMONEY    -0.674763"
      ]
     },
     "execution_count": 46,
     "metadata": {},
     "output_type": "execute_result"
    }
   ],
   "source": [
    "coeff_df = pd.DataFrame(X_train.columns.delete(0))\n",
    "coeff_df.columns = ['Feature']\n",
    "coeff_df[\"Correlation\"] = pd.Series(logreg.coef_[0])\n",
    "\n",
    "coeff_df.sort_values(by='Correlation', ascending=False)\n"
   ]
  },
  {
   "cell_type": "code",
   "execution_count": 47,
   "metadata": {
    "collapsed": true
   },
   "outputs": [],
   "source": [
    "import statsmodels.formula.api as smf"
   ]
  },
  {
   "cell_type": "code",
   "execution_count": 48,
   "metadata": {
    "collapsed": false
   },
   "outputs": [],
   "source": [
    "logit=smf.Logit(y_train,X_train)"
   ]
  },
  {
   "cell_type": "code",
   "execution_count": 49,
   "metadata": {
    "collapsed": false
   },
   "outputs": [
    {
     "name": "stdout",
     "output_type": "stream",
     "text": [
      "Warning: Maximum number of iterations has been exceeded.\n",
      "         Current function value: 0.537067\n",
      "         Iterations: 35\n"
     ]
    },
    {
     "name": "stderr",
     "output_type": "stream",
     "text": [
      "C:\\ProgramData\\Anaconda3\\lib\\site-packages\\statsmodels\\base\\model.py:496: ConvergenceWarning: Maximum Likelihood optimization failed to converge. Check mle_retvals\n",
      "  \"Check mle_retvals\", ConvergenceWarning)\n"
     ]
    }
   ],
   "source": [
    "result = logit.fit()"
   ]
  },
  {
   "cell_type": "code",
   "execution_count": 50,
   "metadata": {
    "collapsed": false
   },
   "outputs": [
    {
     "name": "stdout",
     "output_type": "stream",
     "text": [
      "                                        Results: Logit\n",
      "==============================================================================================\n",
      "Model:                        Logit                      No. Iterations:             35.0000  \n",
      "Dependent Variable:           NPS_Status                 Pseudo R-squared:           0.185    \n",
      "Date:                         2018-04-23 22:43           AIC:                        5450.8501\n",
      "No. Observations:             4989                       BIC:                        5750.5396\n",
      "Df Model:                     45                         Log-Likelihood:             -2679.4  \n",
      "Df Residuals:                 4943                       LL-Null:                    -3289.2  \n",
      "Converged:                    0.0000                     Scale:                      1.0000   \n",
      "----------------------------------------------------------------------------------------------\n",
      "                                Coef.     Std.Err.      z    P>|z|      [0.025       0.975]   \n",
      "----------------------------------------------------------------------------------------------\n",
      "AgeYrs                           0.0661       0.0390  1.6960 0.0899       -0.0103       0.1424\n",
      "CE_ACCESSIBILITY                 0.0384       0.0755  0.5091 0.6107       -0.1095       0.1863\n",
      "CE_CSAT                         -0.6055       0.0832 -7.2740 0.0000       -0.7687      -0.4424\n",
      "CE_VALUEFORMONEY                -0.5422       0.0724 -7.4887 0.0000       -0.6841      -0.4003\n",
      "EM_IMMEDIATEATTENTION           -0.0497       0.1189 -0.4183 0.6757       -0.2828       0.1833\n",
      "EM_NURSING                       0.0814       0.1436  0.5664 0.5711       -0.2002       0.3629\n",
      "EM_DOCTOR                        0.3998       0.1439  2.7781 0.0055        0.1178       0.6819\n",
      "EM_OVERALL                      -0.2193       0.1474 -1.4880 0.1367       -0.5081       0.0695\n",
      "AD_TIME                         -0.0044       0.0714 -0.0615 0.9510       -0.1442       0.1355\n",
      "AD_TARRIFFPACKAGESEXPLAINATION  -0.4374       0.0817 -5.3551 0.0000       -0.5975      -0.2773\n",
      "AD_STAFFATTITUDE                 0.3141       0.0882  3.5593 0.0004        0.1411       0.4870\n",
      "INR_ROOMCLEANLINESS              0.1326       0.0818  1.6201 0.1052       -0.0278       0.2929\n",
      "INR_ROOMPEACE                   -0.0366       0.0741 -0.4940 0.6213       -0.1819       0.1086\n",
      "INR_ROOMEQUIPMENT                0.1193       0.0899  1.3272 0.1844       -0.0569       0.2954\n",
      "INR_ROOMAMBIENCE                -0.1670       0.1002 -1.6659 0.0957       -0.3635       0.0295\n",
      "FNB_FOODQUALITY                 -0.0673       0.0665 -1.0129 0.3111       -0.1976       0.0630\n",
      "FNB_FOODDELIVERYTIME            -0.2084       0.0788 -2.6441 0.0082       -0.3629      -0.0539\n",
      "FNB_DIETICIAN                   -0.0570       0.0832 -0.6849 0.4934       -0.2199       0.1060\n",
      "FNB_STAFFATTITUDE                0.1281       0.0927  1.3808 0.1673       -0.0537       0.3098\n",
      "AE_ATTENDEECARE                  0.0249       0.0937  0.2658 0.7904       -0.1588       0.2086\n",
      "AE_PATIENTSTATUSINFO            -0.3169       0.1007 -3.1471 0.0016       -0.5142      -0.1195\n",
      "AE_ATTENDEEFOOD                 -0.1589       0.0695 -2.2849 0.0223       -0.2952      -0.0226\n",
      "DOC_TREATMENTEXPLAINATION        0.3516       0.1359  2.5875 0.0097        0.0853       0.6179\n",
      "DOC_ATTITUDE                     0.2074       0.1393  1.4884 0.1366       -0.0657       0.4804\n",
      "DOC_VISITS                      -0.5046       0.1133 -4.4530 0.0000       -0.7267      -0.2825\n",
      "DOC_TREATMENTEFFECTIVENESS       0.0314       0.1249  0.2512 0.8017       -0.2134       0.2761\n",
      "NS_CALLBELLRESPONSE             -0.0262       0.1029 -0.2550 0.7987       -0.2278       0.1754\n",
      "NS_NURSESATTITUDE                0.5788       0.1403  4.1251 0.0000        0.3038       0.8538\n",
      "NS_NURSEPROACTIVENESS           -0.0562       0.1390 -0.4044 0.6859       -0.3287       0.2162\n",
      "NS_NURSEPATIENCE                -0.0088       0.1405 -0.0627 0.9500       -0.2843       0.2666\n",
      "OVS_OVERALLSTAFFATTITUDE         0.1514       0.1428  1.0601 0.2891       -0.1285       0.4313\n",
      "OVS_OVERALLSTAFFPROMPTNESS      -0.5268       0.1217 -4.3284 0.0000       -0.7653      -0.2882\n",
      "OVS_SECURITYATTITUDE             0.3142       0.0979  3.2081 0.0013        0.1222       0.5061\n",
      "DP_DISCHARGETIME                -0.1219       0.0917 -1.3297 0.1836       -0.3016       0.0578\n",
      "DP_DISCHARGEQUERIES             -0.1816       0.0964 -1.8842 0.0595       -0.3705       0.0073\n",
      "DP_DISCHARGEPROCESS              0.0669       0.1132  0.5911 0.5544       -0.1550       0.2889\n",
      "LengthofStay                    -0.0066       0.0071 -0.9231 0.3560       -0.0205       0.0074\n",
      "marriage_Separated             -26.2067 1193266.5574 -0.0000 1.0000 -2338785.6831 2338733.2697\n",
      "marriage_Single                  0.3952       0.0982  4.0250 0.0001        0.2027       0.5876\n",
      "bed_GENERAL                      2.9526       0.3460  8.5345 0.0000        2.2745       3.6307\n",
      "bed_GENERAL HD                   3.3991       0.4223  8.0488 0.0000        2.5714       4.2268\n",
      "bed_SEMISPECIAL                  3.3602       0.3448  9.7444 0.0000        2.6843       4.0360\n",
      "bed_SEMISPECIAL HD               2.8131       0.5685  4.9486 0.0000        1.6989       3.9272\n",
      "bed_SPECIAL                      3.3459       0.3496  9.5719 0.0000        2.6608       4.0310\n",
      "bed_ULTRA DLX                    3.2735       0.4660  7.0249 0.0000        2.3602       4.1868\n",
      "bed_ULTRA SPL                    3.0573       0.3708  8.2444 0.0000        2.3304       3.7841\n",
      "==============================================================================================\n",
      "\n"
     ]
    }
   ],
   "source": [
    "print (result.summary2())"
   ]
  },
  {
   "cell_type": "code",
   "execution_count": 51,
   "metadata": {
    "collapsed": false
   },
   "outputs": [
    {
     "data": {
      "text/html": [
       "<div>\n",
       "<style>\n",
       "    .dataframe thead tr:only-child th {\n",
       "        text-align: right;\n",
       "    }\n",
       "\n",
       "    .dataframe thead th {\n",
       "        text-align: left;\n",
       "    }\n",
       "\n",
       "    .dataframe tbody tr th {\n",
       "        vertical-align: top;\n",
       "    }\n",
       "</style>\n",
       "<table border=\"1\" class=\"dataframe\">\n",
       "  <thead>\n",
       "    <tr style=\"text-align: right;\">\n",
       "      <th></th>\n",
       "      <th>SN</th>\n",
       "      <th>HospitalNo2</th>\n",
       "      <th>AgeYrs</th>\n",
       "      <th>Estimatedcost</th>\n",
       "      <th>State</th>\n",
       "      <th>Country</th>\n",
       "      <th>STATEZONE</th>\n",
       "      <th>CE_ACCESSIBILITY</th>\n",
       "      <th>CE_CSAT</th>\n",
       "      <th>CE_VALUEFORMONEY</th>\n",
       "      <th>...</th>\n",
       "      <th>department_GYNAEC</th>\n",
       "      <th>department_ORTHO</th>\n",
       "      <th>department_PEDIATRIC</th>\n",
       "      <th>department_RENAL</th>\n",
       "      <th>department_SPECIAL</th>\n",
       "      <th>InsPayorcategory_EXEMPTION</th>\n",
       "      <th>InsPayorcategory_INSURANCE</th>\n",
       "      <th>InsPayorcategory_INTERNATIONAL</th>\n",
       "      <th>InsPayorcategory_PATIENT</th>\n",
       "      <th>sex_M</th>\n",
       "    </tr>\n",
       "  </thead>\n",
       "  <tbody>\n",
       "    <tr>\n",
       "      <th>0</th>\n",
       "      <td>1</td>\n",
       "      <td>35236</td>\n",
       "      <td>1.386294</td>\n",
       "      <td>25000.0</td>\n",
       "      <td>Karnataka</td>\n",
       "      <td>INDIA</td>\n",
       "      <td>SOUTH</td>\n",
       "      <td>4</td>\n",
       "      <td>4</td>\n",
       "      <td>4</td>\n",
       "      <td>...</td>\n",
       "      <td>0</td>\n",
       "      <td>0</td>\n",
       "      <td>1</td>\n",
       "      <td>0</td>\n",
       "      <td>0</td>\n",
       "      <td>0</td>\n",
       "      <td>0</td>\n",
       "      <td>0</td>\n",
       "      <td>1</td>\n",
       "      <td>0</td>\n",
       "    </tr>\n",
       "    <tr>\n",
       "      <th>1</th>\n",
       "      <td>2</td>\n",
       "      <td>35237</td>\n",
       "      <td>2.564949</td>\n",
       "      <td>15000.0</td>\n",
       "      <td>Karnataka</td>\n",
       "      <td>INDIA</td>\n",
       "      <td>SOUTH</td>\n",
       "      <td>4</td>\n",
       "      <td>4</td>\n",
       "      <td>4</td>\n",
       "      <td>...</td>\n",
       "      <td>0</td>\n",
       "      <td>0</td>\n",
       "      <td>1</td>\n",
       "      <td>0</td>\n",
       "      <td>0</td>\n",
       "      <td>0</td>\n",
       "      <td>0</td>\n",
       "      <td>0</td>\n",
       "      <td>1</td>\n",
       "      <td>0</td>\n",
       "    </tr>\n",
       "    <tr>\n",
       "      <th>2</th>\n",
       "      <td>3</td>\n",
       "      <td>35234</td>\n",
       "      <td>3.496508</td>\n",
       "      <td>70000.0</td>\n",
       "      <td>Karnataka</td>\n",
       "      <td>INDIA</td>\n",
       "      <td>SOUTH</td>\n",
       "      <td>3</td>\n",
       "      <td>2</td>\n",
       "      <td>2</td>\n",
       "      <td>...</td>\n",
       "      <td>1</td>\n",
       "      <td>0</td>\n",
       "      <td>0</td>\n",
       "      <td>0</td>\n",
       "      <td>0</td>\n",
       "      <td>1</td>\n",
       "      <td>0</td>\n",
       "      <td>0</td>\n",
       "      <td>0</td>\n",
       "      <td>0</td>\n",
       "    </tr>\n",
       "    <tr>\n",
       "      <th>3</th>\n",
       "      <td>4</td>\n",
       "      <td>35232</td>\n",
       "      <td>3.931826</td>\n",
       "      <td>150000.0</td>\n",
       "      <td>West Bengal</td>\n",
       "      <td>INDIA</td>\n",
       "      <td>EAST</td>\n",
       "      <td>4</td>\n",
       "      <td>4</td>\n",
       "      <td>3</td>\n",
       "      <td>...</td>\n",
       "      <td>1</td>\n",
       "      <td>0</td>\n",
       "      <td>0</td>\n",
       "      <td>0</td>\n",
       "      <td>0</td>\n",
       "      <td>0</td>\n",
       "      <td>0</td>\n",
       "      <td>0</td>\n",
       "      <td>1</td>\n",
       "      <td>0</td>\n",
       "    </tr>\n",
       "    <tr>\n",
       "      <th>4</th>\n",
       "      <td>5</td>\n",
       "      <td>35233</td>\n",
       "      <td>3.433987</td>\n",
       "      <td>100000.0</td>\n",
       "      <td>Karnataka</td>\n",
       "      <td>INDIA</td>\n",
       "      <td>SOUTH</td>\n",
       "      <td>4</td>\n",
       "      <td>4</td>\n",
       "      <td>4</td>\n",
       "      <td>...</td>\n",
       "      <td>1</td>\n",
       "      <td>0</td>\n",
       "      <td>0</td>\n",
       "      <td>0</td>\n",
       "      <td>0</td>\n",
       "      <td>0</td>\n",
       "      <td>1</td>\n",
       "      <td>0</td>\n",
       "      <td>0</td>\n",
       "      <td>0</td>\n",
       "    </tr>\n",
       "  </tbody>\n",
       "</table>\n",
       "<p>5 rows × 72 columns</p>\n",
       "</div>"
      ],
      "text/plain": [
       "   SN  HospitalNo2    AgeYrs  Estimatedcost        State Country STATEZONE  \\\n",
       "0   1        35236  1.386294        25000.0    Karnataka   INDIA     SOUTH   \n",
       "1   2        35237  2.564949        15000.0    Karnataka   INDIA     SOUTH   \n",
       "2   3        35234  3.496508        70000.0    Karnataka   INDIA     SOUTH   \n",
       "3   4        35232  3.931826       150000.0  West Bengal   INDIA      EAST   \n",
       "4   5        35233  3.433987       100000.0    Karnataka   INDIA     SOUTH   \n",
       "\n",
       "   CE_ACCESSIBILITY  CE_CSAT  CE_VALUEFORMONEY  ...    department_GYNAEC  \\\n",
       "0                 4        4                 4  ...                    0   \n",
       "1                 4        4                 4  ...                    0   \n",
       "2                 3        2                 2  ...                    1   \n",
       "3                 4        4                 3  ...                    1   \n",
       "4                 4        4                 4  ...                    1   \n",
       "\n",
       "   department_ORTHO  department_PEDIATRIC  department_RENAL  \\\n",
       "0                 0                     1                 0   \n",
       "1                 0                     1                 0   \n",
       "2                 0                     0                 0   \n",
       "3                 0                     0                 0   \n",
       "4                 0                     0                 0   \n",
       "\n",
       "   department_SPECIAL  InsPayorcategory_EXEMPTION  InsPayorcategory_INSURANCE  \\\n",
       "0                   0                           0                           0   \n",
       "1                   0                           0                           0   \n",
       "2                   0                           1                           0   \n",
       "3                   0                           0                           0   \n",
       "4                   0                           0                           1   \n",
       "\n",
       "   InsPayorcategory_INTERNATIONAL  InsPayorcategory_PATIENT  sex_M  \n",
       "0                               0                         1      0  \n",
       "1                               0                         1      0  \n",
       "2                               0                         0      0  \n",
       "3                               0                         1      0  \n",
       "4                               0                         0      0  \n",
       "\n",
       "[5 rows x 72 columns]"
      ]
     },
     "execution_count": 51,
     "metadata": {},
     "output_type": "execute_result"
    }
   ],
   "source": [
    "df.head()"
   ]
  },
  {
   "cell_type": "code",
   "execution_count": null,
   "metadata": {
    "collapsed": true
   },
   "outputs": [],
   "source": []
  },
  {
   "cell_type": "code",
   "execution_count": 52,
   "metadata": {
    "collapsed": false
   },
   "outputs": [
    {
     "data": {
      "text/plain": [
       "78.430000000000007"
      ]
     },
     "execution_count": 52,
     "metadata": {},
     "output_type": "execute_result"
    }
   ],
   "source": [
    "# Support Vector Machines\n",
    "\n",
    "svc = SVC()\n",
    "svc.fit(X_train, y_train)\n",
    "Y_pred = svc.predict(X_test)\n",
    "acc_svc = round(svc.score(X_train, y_train) * 100, 2)\n",
    "acc_svc\n"
   ]
  },
  {
   "cell_type": "code",
   "execution_count": 54,
   "metadata": {
    "collapsed": false
   },
   "outputs": [
    {
     "data": {
      "text/plain": [
       "82.560000000000002"
      ]
     },
     "execution_count": 54,
     "metadata": {},
     "output_type": "execute_result"
    }
   ],
   "source": [
    "# KNN\n",
    "knn = KNeighborsClassifier(n_neighbors = 3)\n",
    "knn.fit(X_train, y_train)\n",
    "Y_pred = knn.predict(X_test)\n",
    "acc_knn = round(knn.score(X_train, y_train) * 100, 2)\n",
    "acc_knn"
   ]
  },
  {
   "cell_type": "code",
   "execution_count": 56,
   "metadata": {
    "collapsed": false
   },
   "outputs": [
    {
     "data": {
      "text/plain": [
       "66.409999999999997"
      ]
     },
     "execution_count": 56,
     "metadata": {},
     "output_type": "execute_result"
    }
   ],
   "source": [
    "# Gaussian Naive Bayes\n",
    "\n",
    "gaussian = GaussianNB()\n",
    "gaussian.fit(X_train, y_train)\n",
    "Y_pred = gaussian.predict(X_test)\n",
    "acc_gaussian = round(gaussian.score(X_train, y_train) * 100, 2)\n",
    "acc_gaussian"
   ]
  },
  {
   "cell_type": "code",
   "execution_count": 57,
   "metadata": {
    "collapsed": false
   },
   "outputs": [
    {
     "name": "stderr",
     "output_type": "stream",
     "text": [
      "C:\\ProgramData\\Anaconda3\\lib\\site-packages\\sklearn\\linear_model\\stochastic_gradient.py:128: FutureWarning: max_iter and tol parameters have been added in <class 'sklearn.linear_model.perceptron.Perceptron'> in 0.19. If both are left unset, they default to max_iter=5 and tol=None. If tol is not None, max_iter defaults to max_iter=1000. From 0.21, default max_iter will be 1000, and default tol will be 1e-3.\n",
      "  \"and default tol will be 1e-3.\" % type(self), FutureWarning)\n"
     ]
    },
    {
     "data": {
      "text/plain": [
       "70.939999999999998"
      ]
     },
     "execution_count": 57,
     "metadata": {},
     "output_type": "execute_result"
    }
   ],
   "source": [
    "# Perceptron\n",
    "\n",
    "perceptron = Perceptron()\n",
    "perceptron.fit(X_train, y_train)\n",
    "Y_pred = perceptron.predict(X_test)\n",
    "acc_perceptron = round(perceptron.score(X_train, y_train) * 100, 2)\n",
    "acc_perceptron"
   ]
  },
  {
   "cell_type": "code",
   "execution_count": 58,
   "metadata": {
    "collapsed": false
   },
   "outputs": [
    {
     "data": {
      "text/plain": [
       "75.370000000000005"
      ]
     },
     "execution_count": 58,
     "metadata": {},
     "output_type": "execute_result"
    }
   ],
   "source": [
    "# Linear SVC\n",
    "\n",
    "linear_svc = LinearSVC()\n",
    "linear_svc.fit(X_train, y_train)\n",
    "Y_pred = linear_svc.predict(X_test)\n",
    "acc_linear_svc = round(linear_svc.score(X_train, y_train) * 100, 2)\n",
    "acc_linear_svc\n"
   ]
  },
  {
   "cell_type": "code",
   "execution_count": 59,
   "metadata": {
    "collapsed": false
   },
   "outputs": [
    {
     "data": {
      "text/html": [
       "<div>\n",
       "<style>\n",
       "    .dataframe thead tr:only-child th {\n",
       "        text-align: right;\n",
       "    }\n",
       "\n",
       "    .dataframe thead th {\n",
       "        text-align: left;\n",
       "    }\n",
       "\n",
       "    .dataframe tbody tr th {\n",
       "        vertical-align: top;\n",
       "    }\n",
       "</style>\n",
       "<table border=\"1\" class=\"dataframe\">\n",
       "  <thead>\n",
       "    <tr style=\"text-align: right;\">\n",
       "      <th></th>\n",
       "      <th>Feature</th>\n",
       "      <th>Correlation</th>\n",
       "    </tr>\n",
       "  </thead>\n",
       "  <tbody>\n",
       "    <tr>\n",
       "      <th>40</th>\n",
       "      <td>bed_SEMISPECIAL</td>\n",
       "      <td>0.312274</td>\n",
       "    </tr>\n",
       "    <tr>\n",
       "      <th>43</th>\n",
       "      <td>bed_ULTRA DLX</td>\n",
       "      <td>0.296532</td>\n",
       "    </tr>\n",
       "    <tr>\n",
       "      <th>44</th>\n",
       "      <td>bed_ULTRA SPL</td>\n",
       "      <td>0.293244</td>\n",
       "    </tr>\n",
       "    <tr>\n",
       "      <th>41</th>\n",
       "      <td>bed_SEMISPECIAL HD</td>\n",
       "      <td>0.265782</td>\n",
       "    </tr>\n",
       "    <tr>\n",
       "      <th>10</th>\n",
       "      <td>INR_ROOMCLEANLINESS</td>\n",
       "      <td>0.149872</td>\n",
       "    </tr>\n",
       "    <tr>\n",
       "      <th>27</th>\n",
       "      <td>NS_NURSEPROACTIVENESS</td>\n",
       "      <td>0.148818</td>\n",
       "    </tr>\n",
       "    <tr>\n",
       "      <th>22</th>\n",
       "      <td>DOC_ATTITUDE</td>\n",
       "      <td>0.137318</td>\n",
       "    </tr>\n",
       "    <tr>\n",
       "      <th>39</th>\n",
       "      <td>bed_GENERAL HD</td>\n",
       "      <td>0.126877</td>\n",
       "    </tr>\n",
       "    <tr>\n",
       "      <th>42</th>\n",
       "      <td>bed_SPECIAL</td>\n",
       "      <td>0.103404</td>\n",
       "    </tr>\n",
       "    <tr>\n",
       "      <th>32</th>\n",
       "      <td>DP_DISCHARGETIME</td>\n",
       "      <td>0.100225</td>\n",
       "    </tr>\n",
       "    <tr>\n",
       "      <th>18</th>\n",
       "      <td>AE_ATTENDEECARE</td>\n",
       "      <td>0.083801</td>\n",
       "    </tr>\n",
       "    <tr>\n",
       "      <th>11</th>\n",
       "      <td>INR_ROOMPEACE</td>\n",
       "      <td>0.056447</td>\n",
       "    </tr>\n",
       "    <tr>\n",
       "      <th>30</th>\n",
       "      <td>OVS_OVERALLSTAFFPROMPTNESS</td>\n",
       "      <td>0.046884</td>\n",
       "    </tr>\n",
       "    <tr>\n",
       "      <th>13</th>\n",
       "      <td>INR_ROOMAMBIENCE</td>\n",
       "      <td>0.045821</td>\n",
       "    </tr>\n",
       "    <tr>\n",
       "      <th>38</th>\n",
       "      <td>bed_GENERAL</td>\n",
       "      <td>0.022178</td>\n",
       "    </tr>\n",
       "    <tr>\n",
       "      <th>35</th>\n",
       "      <td>LengthofStay</td>\n",
       "      <td>0.020135</td>\n",
       "    </tr>\n",
       "    <tr>\n",
       "      <th>23</th>\n",
       "      <td>DOC_VISITS</td>\n",
       "      <td>0.018512</td>\n",
       "    </tr>\n",
       "    <tr>\n",
       "      <th>19</th>\n",
       "      <td>AE_PATIENTSTATUSINFO</td>\n",
       "      <td>0.015050</td>\n",
       "    </tr>\n",
       "    <tr>\n",
       "      <th>29</th>\n",
       "      <td>OVS_OVERALLSTAFFATTITUDE</td>\n",
       "      <td>0.010802</td>\n",
       "    </tr>\n",
       "    <tr>\n",
       "      <th>7</th>\n",
       "      <td>AD_TIME</td>\n",
       "      <td>-0.006991</td>\n",
       "    </tr>\n",
       "    <tr>\n",
       "      <th>26</th>\n",
       "      <td>NS_NURSESATTITUDE</td>\n",
       "      <td>-0.010819</td>\n",
       "    </tr>\n",
       "    <tr>\n",
       "      <th>36</th>\n",
       "      <td>marriage_Separated</td>\n",
       "      <td>-0.011365</td>\n",
       "    </tr>\n",
       "    <tr>\n",
       "      <th>12</th>\n",
       "      <td>INR_ROOMEQUIPMENT</td>\n",
       "      <td>-0.020863</td>\n",
       "    </tr>\n",
       "    <tr>\n",
       "      <th>25</th>\n",
       "      <td>NS_CALLBELLRESPONSE</td>\n",
       "      <td>-0.021388</td>\n",
       "    </tr>\n",
       "    <tr>\n",
       "      <th>0</th>\n",
       "      <td>CE_ACCESSIBILITY</td>\n",
       "      <td>-0.024241</td>\n",
       "    </tr>\n",
       "    <tr>\n",
       "      <th>8</th>\n",
       "      <td>AD_TARRIFFPACKAGESEXPLAINATION</td>\n",
       "      <td>-0.024956</td>\n",
       "    </tr>\n",
       "    <tr>\n",
       "      <th>6</th>\n",
       "      <td>EM_OVERALL</td>\n",
       "      <td>-0.027023</td>\n",
       "    </tr>\n",
       "    <tr>\n",
       "      <th>17</th>\n",
       "      <td>FNB_STAFFATTITUDE</td>\n",
       "      <td>-0.027552</td>\n",
       "    </tr>\n",
       "    <tr>\n",
       "      <th>28</th>\n",
       "      <td>NS_NURSEPATIENCE</td>\n",
       "      <td>-0.032267</td>\n",
       "    </tr>\n",
       "    <tr>\n",
       "      <th>1</th>\n",
       "      <td>CE_CSAT</td>\n",
       "      <td>-0.038403</td>\n",
       "    </tr>\n",
       "    <tr>\n",
       "      <th>33</th>\n",
       "      <td>DP_DISCHARGEQUERIES</td>\n",
       "      <td>-0.042735</td>\n",
       "    </tr>\n",
       "    <tr>\n",
       "      <th>15</th>\n",
       "      <td>FNB_FOODDELIVERYTIME</td>\n",
       "      <td>-0.045756</td>\n",
       "    </tr>\n",
       "    <tr>\n",
       "      <th>21</th>\n",
       "      <td>DOC_TREATMENTEXPLAINATION</td>\n",
       "      <td>-0.046280</td>\n",
       "    </tr>\n",
       "    <tr>\n",
       "      <th>4</th>\n",
       "      <td>EM_NURSING</td>\n",
       "      <td>-0.053437</td>\n",
       "    </tr>\n",
       "    <tr>\n",
       "      <th>14</th>\n",
       "      <td>FNB_FOODQUALITY</td>\n",
       "      <td>-0.071756</td>\n",
       "    </tr>\n",
       "    <tr>\n",
       "      <th>16</th>\n",
       "      <td>FNB_DIETICIAN</td>\n",
       "      <td>-0.082527</td>\n",
       "    </tr>\n",
       "    <tr>\n",
       "      <th>5</th>\n",
       "      <td>EM_DOCTOR</td>\n",
       "      <td>-0.084290</td>\n",
       "    </tr>\n",
       "    <tr>\n",
       "      <th>34</th>\n",
       "      <td>DP_DISCHARGEPROCESS</td>\n",
       "      <td>-0.099197</td>\n",
       "    </tr>\n",
       "    <tr>\n",
       "      <th>20</th>\n",
       "      <td>AE_ATTENDEEFOOD</td>\n",
       "      <td>-0.135072</td>\n",
       "    </tr>\n",
       "    <tr>\n",
       "      <th>9</th>\n",
       "      <td>AD_STAFFATTITUDE</td>\n",
       "      <td>-0.143490</td>\n",
       "    </tr>\n",
       "    <tr>\n",
       "      <th>31</th>\n",
       "      <td>OVS_SECURITYATTITUDE</td>\n",
       "      <td>-0.167964</td>\n",
       "    </tr>\n",
       "    <tr>\n",
       "      <th>24</th>\n",
       "      <td>DOC_TREATMENTEFFECTIVENESS</td>\n",
       "      <td>-0.169476</td>\n",
       "    </tr>\n",
       "    <tr>\n",
       "      <th>37</th>\n",
       "      <td>marriage_Single</td>\n",
       "      <td>-0.184101</td>\n",
       "    </tr>\n",
       "    <tr>\n",
       "      <th>3</th>\n",
       "      <td>EM_IMMEDIATEATTENTION</td>\n",
       "      <td>-0.207928</td>\n",
       "    </tr>\n",
       "    <tr>\n",
       "      <th>2</th>\n",
       "      <td>CE_VALUEFORMONEY</td>\n",
       "      <td>-0.291979</td>\n",
       "    </tr>\n",
       "  </tbody>\n",
       "</table>\n",
       "</div>"
      ],
      "text/plain": [
       "                           Feature  Correlation\n",
       "40                 bed_SEMISPECIAL     0.312274\n",
       "43                   bed_ULTRA DLX     0.296532\n",
       "44                   bed_ULTRA SPL     0.293244\n",
       "41              bed_SEMISPECIAL HD     0.265782\n",
       "10             INR_ROOMCLEANLINESS     0.149872\n",
       "27           NS_NURSEPROACTIVENESS     0.148818\n",
       "22                    DOC_ATTITUDE     0.137318\n",
       "39                  bed_GENERAL HD     0.126877\n",
       "42                     bed_SPECIAL     0.103404\n",
       "32                DP_DISCHARGETIME     0.100225\n",
       "18                 AE_ATTENDEECARE     0.083801\n",
       "11                   INR_ROOMPEACE     0.056447\n",
       "30      OVS_OVERALLSTAFFPROMPTNESS     0.046884\n",
       "13                INR_ROOMAMBIENCE     0.045821\n",
       "38                     bed_GENERAL     0.022178\n",
       "35                    LengthofStay     0.020135\n",
       "23                      DOC_VISITS     0.018512\n",
       "19            AE_PATIENTSTATUSINFO     0.015050\n",
       "29        OVS_OVERALLSTAFFATTITUDE     0.010802\n",
       "7                          AD_TIME    -0.006991\n",
       "26               NS_NURSESATTITUDE    -0.010819\n",
       "36              marriage_Separated    -0.011365\n",
       "12               INR_ROOMEQUIPMENT    -0.020863\n",
       "25             NS_CALLBELLRESPONSE    -0.021388\n",
       "0                 CE_ACCESSIBILITY    -0.024241\n",
       "8   AD_TARRIFFPACKAGESEXPLAINATION    -0.024956\n",
       "6                       EM_OVERALL    -0.027023\n",
       "17               FNB_STAFFATTITUDE    -0.027552\n",
       "28                NS_NURSEPATIENCE    -0.032267\n",
       "1                          CE_CSAT    -0.038403\n",
       "33             DP_DISCHARGEQUERIES    -0.042735\n",
       "15            FNB_FOODDELIVERYTIME    -0.045756\n",
       "21       DOC_TREATMENTEXPLAINATION    -0.046280\n",
       "4                       EM_NURSING    -0.053437\n",
       "14                 FNB_FOODQUALITY    -0.071756\n",
       "16                   FNB_DIETICIAN    -0.082527\n",
       "5                        EM_DOCTOR    -0.084290\n",
       "34             DP_DISCHARGEPROCESS    -0.099197\n",
       "20                 AE_ATTENDEEFOOD    -0.135072\n",
       "9                 AD_STAFFATTITUDE    -0.143490\n",
       "31            OVS_SECURITYATTITUDE    -0.167964\n",
       "24      DOC_TREATMENTEFFECTIVENESS    -0.169476\n",
       "37                 marriage_Single    -0.184101\n",
       "3            EM_IMMEDIATEATTENTION    -0.207928\n",
       "2                 CE_VALUEFORMONEY    -0.291979"
      ]
     },
     "execution_count": 59,
     "metadata": {},
     "output_type": "execute_result"
    }
   ],
   "source": [
    "coeff_df = pd.DataFrame(X_train.columns.delete(0))\n",
    "coeff_df.columns = ['Feature']\n",
    "coeff_df[\"Correlation\"] = pd.Series(linear_svc.coef_[0])\n",
    "\n",
    "coeff_df.sort_values(by='Correlation', ascending=False)"
   ]
  },
  {
   "cell_type": "code",
   "execution_count": 60,
   "metadata": {
    "collapsed": false
   },
   "outputs": [
    {
     "name": "stderr",
     "output_type": "stream",
     "text": [
      "C:\\ProgramData\\Anaconda3\\lib\\site-packages\\sklearn\\linear_model\\stochastic_gradient.py:128: FutureWarning: max_iter and tol parameters have been added in <class 'sklearn.linear_model.stochastic_gradient.SGDClassifier'> in 0.19. If both are left unset, they default to max_iter=5 and tol=None. If tol is not None, max_iter defaults to max_iter=1000. From 0.21, default max_iter will be 1000, and default tol will be 1e-3.\n",
      "  \"and default tol will be 1e-3.\" % type(self), FutureWarning)\n"
     ]
    },
    {
     "data": {
      "text/plain": [
       "66.370000000000005"
      ]
     },
     "execution_count": 60,
     "metadata": {},
     "output_type": "execute_result"
    }
   ],
   "source": [
    "# Stochastic Gradient Descent\n",
    "\n",
    "sgd = SGDClassifier()\n",
    "sgd.fit(X_train, y_train)\n",
    "Y_pred = sgd.predict(X_test)\n",
    "acc_sgd = round(sgd.score(X_train, y_train) * 100, 2)\n",
    "acc_sgd"
   ]
  },
  {
   "cell_type": "code",
   "execution_count": 61,
   "metadata": {
    "collapsed": false
   },
   "outputs": [
    {
     "data": {
      "text/plain": [
       "99.579999999999998"
      ]
     },
     "execution_count": 61,
     "metadata": {},
     "output_type": "execute_result"
    }
   ],
   "source": [
    "# Decision Tree\n",
    "\n",
    "decision_tree = DecisionTreeClassifier()\n",
    "decision_tree.fit(X_train, y_train)\n",
    "Y_pred = decision_tree.predict(X_test)\n",
    "acc_decision_tree = round(decision_tree.score(X_train, y_train) * 100, 2)\n",
    "acc_decision_tree\n"
   ]
  },
  {
   "cell_type": "code",
   "execution_count": 62,
   "metadata": {
    "collapsed": false
   },
   "outputs": [
    {
     "data": {
      "text/plain": [
       "99.579999999999998"
      ]
     },
     "execution_count": 62,
     "metadata": {},
     "output_type": "execute_result"
    }
   ],
   "source": [
    "# Random Forest\n",
    "\n",
    "random_forest = RandomForestClassifier(n_estimators=100)\n",
    "random_forest.fit(X_train, y_train)\n",
    "Y_pred = random_forest.predict(X_test)\n",
    "random_forest.score(X_train, y_train)\n",
    "acc_random_forest = round(random_forest.score(X_train, y_train) * 100, 2)\n",
    "acc_random_forest\n"
   ]
  },
  {
   "cell_type": "code",
   "execution_count": 63,
   "metadata": {
    "collapsed": false
   },
   "outputs": [
    {
     "data": {
      "text/html": [
       "<div>\n",
       "<style>\n",
       "    .dataframe thead tr:only-child th {\n",
       "        text-align: right;\n",
       "    }\n",
       "\n",
       "    .dataframe thead th {\n",
       "        text-align: left;\n",
       "    }\n",
       "\n",
       "    .dataframe tbody tr th {\n",
       "        vertical-align: top;\n",
       "    }\n",
       "</style>\n",
       "<table border=\"1\" class=\"dataframe\">\n",
       "  <thead>\n",
       "    <tr style=\"text-align: right;\">\n",
       "      <th></th>\n",
       "      <th>Model</th>\n",
       "      <th>Score</th>\n",
       "    </tr>\n",
       "  </thead>\n",
       "  <tbody>\n",
       "    <tr>\n",
       "      <th>3</th>\n",
       "      <td>Random Forest</td>\n",
       "      <td>99.58</td>\n",
       "    </tr>\n",
       "    <tr>\n",
       "      <th>8</th>\n",
       "      <td>Decision Tree</td>\n",
       "      <td>99.58</td>\n",
       "    </tr>\n",
       "    <tr>\n",
       "      <th>1</th>\n",
       "      <td>KNN</td>\n",
       "      <td>82.56</td>\n",
       "    </tr>\n",
       "    <tr>\n",
       "      <th>0</th>\n",
       "      <td>Support Vector Machines</td>\n",
       "      <td>78.43</td>\n",
       "    </tr>\n",
       "    <tr>\n",
       "      <th>2</th>\n",
       "      <td>Logistic Regression</td>\n",
       "      <td>76.23</td>\n",
       "    </tr>\n",
       "    <tr>\n",
       "      <th>7</th>\n",
       "      <td>Linear SVC</td>\n",
       "      <td>75.37</td>\n",
       "    </tr>\n",
       "    <tr>\n",
       "      <th>5</th>\n",
       "      <td>Perceptron</td>\n",
       "      <td>70.94</td>\n",
       "    </tr>\n",
       "    <tr>\n",
       "      <th>4</th>\n",
       "      <td>Naive Bayes</td>\n",
       "      <td>66.41</td>\n",
       "    </tr>\n",
       "    <tr>\n",
       "      <th>6</th>\n",
       "      <td>Stochastic Gradient Decent</td>\n",
       "      <td>66.37</td>\n",
       "    </tr>\n",
       "  </tbody>\n",
       "</table>\n",
       "</div>"
      ],
      "text/plain": [
       "                        Model  Score\n",
       "3               Random Forest  99.58\n",
       "8               Decision Tree  99.58\n",
       "1                         KNN  82.56\n",
       "0     Support Vector Machines  78.43\n",
       "2         Logistic Regression  76.23\n",
       "7                  Linear SVC  75.37\n",
       "5                  Perceptron  70.94\n",
       "4                 Naive Bayes  66.41\n",
       "6  Stochastic Gradient Decent  66.37"
      ]
     },
     "execution_count": 63,
     "metadata": {},
     "output_type": "execute_result"
    }
   ],
   "source": [
    "#### Model \tScore  ##\n",
    "models = pd.DataFrame({\n",
    "    'Model': ['Support Vector Machines', 'KNN', 'Logistic Regression', \n",
    "              'Random Forest', 'Naive Bayes', 'Perceptron', \n",
    "              'Stochastic Gradient Decent', 'Linear SVC', \n",
    "              'Decision Tree'],\n",
    "    'Score': [acc_svc, acc_knn, acc_log, \n",
    "              acc_random_forest, acc_gaussian, acc_perceptron, \n",
    "              acc_sgd, acc_linear_svc, acc_decision_tree]})\n",
    "models.sort_values(by='Score', ascending=False)"
   ]
  },
  {
   "cell_type": "code",
   "execution_count": null,
   "metadata": {
    "collapsed": true
   },
   "outputs": [],
   "source": []
  }
 ],
 "metadata": {
  "kernelspec": {
   "display_name": "Python 3",
   "language": "python",
   "name": "python3"
  },
  "language_info": {
   "codemirror_mode": {
    "name": "ipython",
    "version": 3
   },
   "file_extension": ".py",
   "mimetype": "text/x-python",
   "name": "python",
   "nbconvert_exporter": "python",
   "pygments_lexer": "ipython3",
   "version": "3.6.0"
  }
 },
 "nbformat": 4,
 "nbformat_minor": 2
}
